{
 "cells": [
  {
   "cell_type": "code",
   "execution_count": 1,
   "id": "ef8d4851-e11c-42c2-addf-19d507e54142",
   "metadata": {},
   "outputs": [
    {
     "name": "stdout",
     "output_type": "stream",
     "text": [
      "Requirement already satisfied: numpy in c:\\users\\rodrigo\\anaconda3\\envs\\pr_ne\\lib\\site-packages (1.23.5)\n"
     ]
    },
    {
     "name": "stderr",
     "output_type": "stream",
     "text": [
      "\n",
      "[notice] A new release of pip is available: 23.1.2 -> 24.0\n",
      "[notice] To update, run: python.exe -m pip install --upgrade pip\n"
     ]
    }
   ],
   "source": [
    "!pip install numpy"
   ]
  },
  {
   "cell_type": "code",
   "execution_count": 2,
   "id": "dc128d7e-95bb-4c6c-aa46-b3c20bf07ad5",
   "metadata": {},
   "outputs": [
    {
     "data": {
      "text/plain": [
       "'1.23.5'"
      ]
     },
     "execution_count": 2,
     "metadata": {},
     "output_type": "execute_result"
    }
   ],
   "source": [
    "import numpy as np\n",
    "np.version.version"
   ]
  },
  {
   "cell_type": "code",
   "execution_count": 3,
   "id": "7fd79143-0fac-4b85-8e1a-c3c5bc953c87",
   "metadata": {},
   "outputs": [
    {
     "name": "stdout",
     "output_type": "stream",
     "text": [
      "[1 2 3]\n"
     ]
    }
   ],
   "source": [
    "a1 = np.array([1, 2, 3])\n",
    "print(a1)"
   ]
  },
  {
   "cell_type": "code",
   "execution_count": 4,
   "id": "8cd21edd-abf5-435e-ad43-db05757bc599",
   "metadata": {},
   "outputs": [
    {
     "name": "stdout",
     "output_type": "stream",
     "text": [
      "[[1 2 3]\n",
      " [4 5 6]]\n"
     ]
    }
   ],
   "source": [
    "a2 = np.array([[1, 2, 3], [4, 5, 6]])\n",
    "print(a2)"
   ]
  },
  {
   "cell_type": "code",
   "execution_count": 5,
   "id": "702d13c9-731d-4365-9793-df0f2a013ca0",
   "metadata": {},
   "outputs": [
    {
     "name": "stdout",
     "output_type": "stream",
     "text": [
      "[[4.24399158e-314 0.00000000e+000 0.00000000e+000 0.00000000e+000\n",
      "  0.00000000e+000]\n",
      " [0.00000000e+000 0.00000000e+000 0.00000000e+000 0.00000000e+000\n",
      "  0.00000000e+000]]\n"
     ]
    }
   ],
   "source": [
    "a3 = np.empty([2,5])\n",
    "print(a3)"
   ]
  },
  {
   "cell_type": "code",
   "execution_count": 6,
   "id": "a1a3af17-2748-4af1-bff9-2ac5a26ac82c",
   "metadata": {},
   "outputs": [
    {
     "name": "stdout",
     "output_type": "stream",
     "text": [
      "[[0. 0. 0. 0. 0. 0. 0.]\n",
      " [0. 0. 0. 0. 0. 0. 0.]]\n"
     ]
    }
   ],
   "source": [
    "a4 = np.zeros((2,7))\n",
    "print (a4)"
   ]
  },
  {
   "cell_type": "code",
   "execution_count": 7,
   "id": "f17a67cb-72fe-4658-a56d-7764f9119d0a",
   "metadata": {},
   "outputs": [
    {
     "name": "stdout",
     "output_type": "stream",
     "text": [
      "[[1.5 1.5 1.5]\n",
      " [1.5 1.5 1.5]]\n"
     ]
    }
   ],
   "source": [
    "a5 = np.full ((2,3),1.5)\n",
    "print(a5)"
   ]
  },
  {
   "cell_type": "code",
   "execution_count": null,
   "id": "d51783f2-fbb0-4f9a-a253-f366d873e9c5",
   "metadata": {},
   "outputs": [],
   "source": []
  },
  {
   "cell_type": "code",
   "execution_count": 8,
   "id": "60ef3261-1135-4a20-a2d8-1720f8111397",
   "metadata": {},
   "outputs": [
    {
     "name": "stdout",
     "output_type": "stream",
     "text": [
      "[[1. 0. 0. 0. 0. 0. 0. 0.]\n",
      " [0. 1. 0. 0. 0. 0. 0. 0.]\n",
      " [0. 0. 1. 0. 0. 0. 0. 0.]\n",
      " [0. 0. 0. 1. 0. 0. 0. 0.]\n",
      " [0. 0. 0. 0. 1. 0. 0. 0.]\n",
      " [0. 0. 0. 0. 0. 1. 0. 0.]\n",
      " [0. 0. 0. 0. 0. 0. 1. 0.]\n",
      " [0. 0. 0. 0. 0. 0. 0. 1.]]\n"
     ]
    }
   ],
   "source": [
    "a6 = np.identity(8)\n",
    "print (a6)"
   ]
  },
  {
   "cell_type": "code",
   "execution_count": 12,
   "id": "e99a8239-0a7c-4373-8985-51d157ea9f5c",
   "metadata": {},
   "outputs": [
    {
     "name": "stdout",
     "output_type": "stream",
     "text": [
      "[ 2  5  8 11]\n"
     ]
    }
   ],
   "source": [
    "a7 = np.arange(2,14, 3)\n",
    "print(a7)"
   ]
  },
  {
   "cell_type": "code",
   "execution_count": 13,
   "id": "dac7d389-066b-41b7-94fa-28811dd259b7",
   "metadata": {},
   "outputs": [
    {
     "name": "stdout",
     "output_type": "stream",
     "text": [
      "[ 0.   2.5  5.   7.5 10. ]\n"
     ]
    }
   ],
   "source": [
    "a8 = np.linspace(0, 10, 5)\n",
    "print (a8)"
   ]
  },
  {
   "cell_type": "code",
   "execution_count": 14,
   "id": "af28d51e-f6a3-4002-ac8d-2be958f54a3c",
   "metadata": {},
   "outputs": [
    {
     "name": "stdout",
     "output_type": "stream",
     "text": [
      "[ 0.          3.33333333  6.66666667 10.        ]\n"
     ]
    }
   ],
   "source": [
    "a9 = np.linspace(0, 10, 4)\n",
    "print (a9)"
   ]
  },
  {
   "cell_type": "code",
   "execution_count": 15,
   "id": "a87adba4-8844-482e-a605-2a2244a3e179",
   "metadata": {},
   "outputs": [
    {
     "data": {
      "text/plain": [
       "2"
      ]
     },
     "execution_count": 15,
     "metadata": {},
     "output_type": "execute_result"
    }
   ],
   "source": [
    "a5.ndim"
   ]
  },
  {
   "cell_type": "code",
   "execution_count": 16,
   "id": "34522ba4-7795-46de-a1f8-3d01c9eddb67",
   "metadata": {},
   "outputs": [
    {
     "data": {
      "text/plain": [
       "(2, 3)"
      ]
     },
     "execution_count": 16,
     "metadata": {},
     "output_type": "execute_result"
    }
   ],
   "source": [
    "a5.shape"
   ]
  },
  {
   "cell_type": "code",
   "execution_count": 17,
   "id": "4c481521-89f8-4124-960e-74aca58226f4",
   "metadata": {},
   "outputs": [
    {
     "data": {
      "text/plain": [
       "6"
      ]
     },
     "execution_count": 17,
     "metadata": {},
     "output_type": "execute_result"
    }
   ],
   "source": [
    "a5.size"
   ]
  },
  {
   "cell_type": "code",
   "execution_count": 18,
   "id": "26dc64d2-d045-4ad3-b980-b5f955139a96",
   "metadata": {},
   "outputs": [
    {
     "name": "stdout",
     "output_type": "stream",
     "text": [
      "[['a' 'a' 'a']\n",
      " ['a' 'a' 'a']]\n"
     ]
    },
    {
     "data": {
      "text/plain": [
       "6"
      ]
     },
     "execution_count": 18,
     "metadata": {},
     "output_type": "execute_result"
    }
   ],
   "source": [
    "a10 = np.full ((2,3),\"a\")\n",
    "print (a10)\n",
    "a10.size"
   ]
  },
  {
   "cell_type": "code",
   "execution_count": 19,
   "id": "65aebd9c-1b57-4776-8659-9e449011e60a",
   "metadata": {},
   "outputs": [
    {
     "data": {
      "text/plain": [
       "dtype('<U1')"
      ]
     },
     "execution_count": 19,
     "metadata": {},
     "output_type": "execute_result"
    }
   ],
   "source": [
    "a10.dtype"
   ]
  },
  {
   "cell_type": "code",
   "execution_count": 38,
   "id": "d1f554ac-9a6c-4dc6-9e1a-861dfe00e657",
   "metadata": {},
   "outputs": [
    {
     "name": "stdout",
     "output_type": "stream",
     "text": [
      "[ 2  5  8 11]\n",
      "8\n"
     ]
    }
   ],
   "source": [
    "a7 = np.arange(2,14,3)\n",
    "print(a7)\n",
    "print(a7[2])"
   ]
  },
  {
   "cell_type": "code",
   "execution_count": 28,
   "id": "05ea4234-771c-4d8f-9509-64055ec2ab24",
   "metadata": {},
   "outputs": [
    {
     "name": "stdout",
     "output_type": "stream",
     "text": [
      "[[1 2 3]\n",
      " [4 5 6]]\n"
     ]
    }
   ],
   "source": [
    "a2 = np.array([[1, 2, 3], [4, 5, 6]])\n",
    "print(a2)\n"
   ]
  },
  {
   "cell_type": "code",
   "execution_count": 36,
   "id": "125d88e3-0645-462c-bae3-4994ed6be00c",
   "metadata": {},
   "outputs": [
    {
     "data": {
      "text/plain": [
       "6"
      ]
     },
     "execution_count": 36,
     "metadata": {},
     "output_type": "execute_result"
    }
   ],
   "source": [
    "a2[1,2]"
   ]
  },
  {
   "cell_type": "code",
   "execution_count": 49,
   "id": "52d95f9f-7733-4fc8-a48b-9947b78e5038",
   "metadata": {},
   "outputs": [
    {
     "name": "stdout",
     "output_type": "stream",
     "text": [
      "[2 5]\n"
     ]
    }
   ],
   "source": [
    "print(a7[:2])\n"
   ]
  },
  {
   "cell_type": "code",
   "execution_count": 50,
   "id": "14a776a0",
   "metadata": {},
   "outputs": [
    {
     "name": "stdout",
     "output_type": "stream",
     "text": [
      "[1 2 3 4 5 6 7 8 9]\n"
     ]
    }
   ],
   "source": [
    "a11 = np.arange(1,10)\n",
    "print (a11)"
   ]
  },
  {
   "cell_type": "code",
   "execution_count": 51,
   "id": "c6176e85-1fee-4305-b45c-5bd0debf0589",
   "metadata": {},
   "outputs": [
    {
     "name": "stdout",
     "output_type": "stream",
     "text": [
      "[[1 2 3]\n",
      " [4 5 6]\n",
      " [7 8 9]]\n"
     ]
    }
   ],
   "source": [
    "a11 = np.arange(1,10).reshape(3,3)\n",
    "print (a11)"
   ]
  },
  {
   "cell_type": "code",
   "execution_count": 57,
   "id": "a40ea7de",
   "metadata": {},
   "outputs": [
    {
     "name": "stdout",
     "output_type": "stream",
     "text": [
      "[[ 1  2  3]\n",
      " [ 4  5  6]\n",
      " [ 7  8  9]\n",
      " [10 11 12]]\n"
     ]
    }
   ],
   "source": [
    "a12 = np.arange(1,13).reshape(4,3)\n",
    "print (a12)"
   ]
  },
  {
   "cell_type": "code",
   "execution_count": 58,
   "id": "0956d765-bf25-4f68-b7e1-7df97f0036f6",
   "metadata": {},
   "outputs": [
    {
     "name": "stdout",
     "output_type": "stream",
     "text": [
      "[2 4 6 8]\n"
     ]
    }
   ],
   "source": [
    "print(a11[(a11 %2 == 0)])"
   ]
  },
  {
   "cell_type": "code",
   "execution_count": 59,
   "id": "14dc028e-a0b9-473a-9c0a-5e5d78193d30",
   "metadata": {},
   "outputs": [
    {
     "name": "stdout",
     "output_type": "stream",
     "text": [
      "[1 2 3 4 6 7 8 9]\n"
     ]
    }
   ],
   "source": [
    "print(a11[(a11 != 5)])"
   ]
  },
  {
   "cell_type": "code",
   "execution_count": null,
   "id": "642c5eac",
   "metadata": {},
   "outputs": [],
   "source": []
  }
 ],
 "metadata": {
  "kernelspec": {
   "display_name": "Python 3 (ipykernel)",
   "language": "python",
   "name": "python3"
  },
  "language_info": {
   "codemirror_mode": {
    "name": "ipython",
    "version": 3
   },
   "file_extension": ".py",
   "mimetype": "text/x-python",
   "name": "python",
   "nbconvert_exporter": "python",
   "pygments_lexer": "ipython3",
   "version": "3.11.2"
  }
 },
 "nbformat": 4,
 "nbformat_minor": 5
}
