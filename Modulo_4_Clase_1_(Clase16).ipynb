{
 "cells": [
  {
   "cell_type": "code",
   "execution_count": 1,
   "id": "a7912090",
   "metadata": {},
   "outputs": [],
   "source": [
    "import scipy.stats as ss"
   ]
  },
  {
   "cell_type": "markdown",
   "id": "7521db70",
   "metadata": {},
   "source": [
    "### Caso 1"
   ]
  },
  {
   "cell_type": "code",
   "execution_count": 11,
   "id": "4b9e9232",
   "metadata": {},
   "outputs": [
    {
     "data": {
      "text/plain": [
       "array([0.0013499, 0.9986501])"
      ]
     },
     "execution_count": 11,
     "metadata": {},
     "output_type": "execute_result"
    }
   ],
   "source": [
    "X = ss.norm(0, 1)\n",
    "cdf_X= X.cdf([-3, 3])\n",
    "cdf_X"
   ]
  },
  {
   "cell_type": "code",
   "execution_count": 14,
   "id": "35ef91d9",
   "metadata": {},
   "outputs": [
    {
     "name": "stdout",
     "output_type": "stream",
     "text": [
      "La probabilidad de X es de 99.73002039367398\n"
     ]
    }
   ],
   "source": [
    "P_X = (cdf_X[1]-cdf_X[0])*100\n",
    "print(f\"La probabilidad de X es de {P_X}\")"
   ]
  },
  {
   "cell_type": "markdown",
   "id": "59d20606",
   "metadata": {},
   "source": [
    "### Caso 2"
   ]
  },
  {
   "cell_type": "code",
   "execution_count": 24,
   "id": "79d47a9b",
   "metadata": {},
   "outputs": [
    {
     "name": "stdout",
     "output_type": "stream",
     "text": [
      "El valor de 'a' es: 1.659783463783759\n",
      "El valor de 'a' es: 1.659783463783759\n",
      "La probabilidad acumulada con el valor de 'a' calculado es: 0.5933999999999999\n"
     ]
    }
   ],
   "source": [
    "from scipy.stats import norm\n",
    "\n",
    "media = 4\n",
    "desviacion_estandar = 2\n",
    "\n",
    "# Definir la probabilidad acumulada deseada\n",
    "probabilidad_acumulada = 0.5934\n",
    "\n",
    "# Calcular el valor de a usando la función de distribución acumulativa inversa (ppf)\n",
    "a = norm.ppf(probabilidad_acumulada + (1 - probabilidad_acumulada) / 2, loc=media, scale=desviacion_estandar) - media\n",
    "\n",
    "print(\"El valor de 'a' es:\", a)\n",
    "\n",
    "# Comprobar el valor de \"a\"\n",
    "probabilidad_comprobada = norm.cdf(4 + a, loc=media, scale=desviacion_estandar) - norm.cdf(4 - a, loc=media, scale=desviacion_estandar)\n",
    "\n",
    "print(\"El valor de 'a' es:\", a)\n",
    "print(\"La probabilidad acumulada con el valor de 'a' calculado es:\", probabilidad_comprobada)"
   ]
  },
  {
   "cell_type": "code",
   "execution_count": 21,
   "id": "ad571702",
   "metadata": {},
   "outputs": [
    {
     "name": "stdout",
     "output_type": "stream",
     "text": [
      "La probabilidad de X es de 18.680000000000025\n"
     ]
    }
   ],
   "source": [
    "X = ss.norm(4, 2)\n",
    "cdf_X= X.cdf([(4-a), (4+a)])\n",
    "P_X = (cdf_X[1]-cdf_X[0])*100\n",
    "print(f\"La probabilidad de X es de {P_X}\")"
   ]
  },
  {
   "cell_type": "code",
   "execution_count": null,
   "id": "5de603b9",
   "metadata": {},
   "outputs": [],
   "source": [
    "\n",
    ".norm(0, 1)\n",
    "<scipy.stats.distributions.rv_frozen object at 0x928352c>\n",
    ">>> scipy.stats.norm(0, 1).pdf(0)\n",
    "0.3989422804014327\n",
    ">>> scipy.stats.norm(0, 1).cdf(0)\n",
    "0.5\n",
    ">>> scipy.stats.norm(100, 12)\n",
    "<scipy.stats.distributions.rv_frozen object at 0x928352c>\n",
    ">>> scipy.stats.norm(100, 12).pdf(98)\n",
    "0.032786643008494994\n",
    ">>> scipy.stats.norm(100, 12).cdf(98)\n",
    "0.43381616738909634\n",
    ">>> scipy.stats.norm(100, 12).cdf(100)"
   ]
  }
 ],
 "metadata": {
  "kernelspec": {
   "display_name": "Python 3 (ipykernel)",
   "language": "python",
   "name": "python3"
  },
  "language_info": {
   "codemirror_mode": {
    "name": "ipython",
    "version": 3
   },
   "file_extension": ".py",
   "mimetype": "text/x-python",
   "name": "python",
   "nbconvert_exporter": "python",
   "pygments_lexer": "ipython3",
   "version": "3.11.2"
  }
 },
 "nbformat": 4,
 "nbformat_minor": 5
}
