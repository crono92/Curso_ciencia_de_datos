{
 "cells": [
  {
   "cell_type": "markdown",
   "id": "34c55ed0",
   "metadata": {},
   "source": [
    "### Algunas operaciones básicas en Python"
   ]
  },
  {
   "cell_type": "code",
   "execution_count": 1,
   "id": "8b376deb",
   "metadata": {},
   "outputs": [
    {
     "data": {
      "text/plain": [
       "True"
      ]
     },
     "execution_count": 1,
     "metadata": {},
     "output_type": "execute_result"
    }
   ],
   "source": [
    "3 == 3"
   ]
  },
  {
   "cell_type": "code",
   "execution_count": 2,
   "id": "8f633ef2",
   "metadata": {},
   "outputs": [
    {
     "data": {
      "text/plain": [
       "False"
      ]
     },
     "execution_count": 2,
     "metadata": {},
     "output_type": "execute_result"
    }
   ],
   "source": [
    "3 != 3"
   ]
  },
  {
   "cell_type": "code",
   "execution_count": 3,
   "id": "df770bad",
   "metadata": {},
   "outputs": [
    {
     "data": {
      "text/plain": [
       "True"
      ]
     },
     "execution_count": 3,
     "metadata": {},
     "output_type": "execute_result"
    }
   ],
   "source": [
    "15 != 4"
   ]
  },
  {
   "cell_type": "code",
   "execution_count": 4,
   "id": "5f1a5ef6",
   "metadata": {},
   "outputs": [
    {
     "data": {
      "text/plain": [
       "True"
      ]
     },
     "execution_count": 4,
     "metadata": {},
     "output_type": "execute_result"
    }
   ],
   "source": [
    "\"abc\" == \"abc\""
   ]
  },
  {
   "cell_type": "code",
   "execution_count": 5,
   "id": "5bf76968",
   "metadata": {},
   "outputs": [
    {
     "data": {
      "text/plain": [
       "False"
      ]
     },
     "execution_count": 5,
     "metadata": {},
     "output_type": "execute_result"
    }
   ],
   "source": [
    "\"abc\" == \"abC\""
   ]
  },
  {
   "cell_type": "code",
   "execution_count": null,
   "id": "4aa96cea",
   "metadata": {},
   "outputs": [],
   "source": [
    "\"a\" > \"b\""
   ]
  },
  {
   "cell_type": "code",
   "execution_count": null,
   "id": "1c349984",
   "metadata": {},
   "outputs": [],
   "source": [
    "\"a\" < \"b\""
   ]
  },
  {
   "cell_type": "code",
   "execution_count": null,
   "id": "8befe625",
   "metadata": {},
   "outputs": [],
   "source": [
    "\"a\" < \"B\""
   ]
  },
  {
   "cell_type": "markdown",
   "id": "9d07e760",
   "metadata": {},
   "source": [
    "### Definiendo variables"
   ]
  },
  {
   "cell_type": "code",
   "execution_count": 9,
   "id": "4db71f77",
   "metadata": {},
   "outputs": [
    {
     "name": "stdout",
     "output_type": "stream",
     "text": [
      "miercoles\n"
     ]
    }
   ],
   "source": [
    "dia = \"miercoles\"\n",
    "print (dia)"
   ]
  },
  {
   "cell_type": "code",
   "execution_count": 10,
   "id": "5fc2a856",
   "metadata": {},
   "outputs": [
    {
     "data": {
      "text/plain": [
       "5.0"
      ]
     },
     "execution_count": 10,
     "metadata": {},
     "output_type": "execute_result"
    }
   ],
   "source": [
    "x = 2.0\n",
    "y = 3\n",
    "x + y"
   ]
  },
  {
   "cell_type": "markdown",
   "id": "57341882",
   "metadata": {},
   "source": [
    "### Aliasing de variables (2 variables que hace referencia a lo mismo)"
   ]
  },
  {
   "cell_type": "code",
   "execution_count": 11,
   "id": "90b4d4c6",
   "metadata": {},
   "outputs": [
    {
     "name": "stdout",
     "output_type": "stream",
     "text": [
      "miercoles\n"
     ]
    }
   ],
   "source": [
    "d = dia\n",
    "print (d)"
   ]
  },
  {
   "cell_type": "code",
   "execution_count": 12,
   "id": "72c013e7",
   "metadata": {},
   "outputs": [
    {
     "data": {
      "text/plain": [
       "True"
      ]
     },
     "execution_count": 12,
     "metadata": {},
     "output_type": "execute_result"
    }
   ],
   "source": [
    "d is dia"
   ]
  },
  {
   "cell_type": "code",
   "execution_count": 13,
   "id": "4f8cbb67",
   "metadata": {},
   "outputs": [
    {
     "data": {
      "text/plain": [
       "False"
      ]
     },
     "execution_count": 13,
     "metadata": {},
     "output_type": "execute_result"
    }
   ],
   "source": [
    "d is not dia"
   ]
  },
  {
   "cell_type": "markdown",
   "id": "2ca0d749",
   "metadata": {},
   "source": [
    "### List, tuples y sets (conjuntos)"
   ]
  },
  {
   "cell_type": "code",
   "execution_count": 14,
   "id": "c34b4b7f",
   "metadata": {},
   "outputs": [
    {
     "name": "stdout",
     "output_type": "stream",
     "text": [
      "[1, 3, 5, 7, 1, 3]\n"
     ]
    },
    {
     "data": {
      "text/plain": [
       "list"
      ]
     },
     "execution_count": 14,
     "metadata": {},
     "output_type": "execute_result"
    }
   ],
   "source": [
    "# Se usan corchetes []\n",
    "\n",
    "a = [1, 3, 5, 7, 1, 3]\n",
    "print (a)\n",
    "type (a)"
   ]
  },
  {
   "cell_type": "code",
   "execution_count": 15,
   "id": "5c4205b1",
   "metadata": {},
   "outputs": [
    {
     "name": "stdout",
     "output_type": "stream",
     "text": [
      "{1, 3, 5, 7}\n"
     ]
    },
    {
     "data": {
      "text/plain": [
       "set"
      ]
     },
     "execution_count": 15,
     "metadata": {},
     "output_type": "execute_result"
    }
   ],
   "source": [
    "# Podemos generar un set a partir de una lista\n",
    "\n",
    "b = set(a)\n",
    "print (b)\n",
    "type (b)"
   ]
  },
  {
   "cell_type": "code",
   "execution_count": 16,
   "id": "e8eae0c4",
   "metadata": {},
   "outputs": [
    {
     "name": "stdout",
     "output_type": "stream",
     "text": [
      "(3, 5, 3, 6, 7)\n"
     ]
    },
    {
     "data": {
      "text/plain": [
       "tuple"
      ]
     },
     "execution_count": 16,
     "metadata": {},
     "output_type": "execute_result"
    }
   ],
   "source": [
    "# Las tuplas se parecen a las listas, pero se crean usando parentesis (), pero sus elementos son inmutables\n",
    "# Es decir, si queremos modificar los valores, hay que crear una nueva tupla\n",
    "\n",
    "c = (3, 5, 3, 6, 7)\n",
    "print (c)\n",
    "type (c)"
   ]
  },
  {
   "cell_type": "markdown",
   "id": "26d83459",
   "metadata": {},
   "source": [
    "### Estructuras de control de flujo condicionales (if, elif, else)"
   ]
  },
  {
   "cell_type": "code",
   "execution_count": 17,
   "id": "39171037",
   "metadata": {},
   "outputs": [
    {
     "name": "stdout",
     "output_type": "stream",
     "text": [
      "n1 es mayor o igual que n2\n"
     ]
    }
   ],
   "source": [
    "# Prueba cambiando los valores de n1 y n2\n",
    "\n",
    "n1 = 7\n",
    "n2 = 7\n",
    "\n",
    "if n1 > n2:\n",
    "    print (\"n1 es mayor que n2\")        \n",
    "elif n1 >= n2:\n",
    "    print (\"n1 es mayor o igual que n2\")\n",
    "elif n1 == n2:\n",
    "    print (\"n1 y n2 son iguales\")\n",
    "else:\n",
    "    print (\"n1 no es mayor que n2\")"
   ]
  },
  {
   "cell_type": "markdown",
   "id": "314a885b",
   "metadata": {},
   "source": [
    "### Función range"
   ]
  },
  {
   "cell_type": "code",
   "execution_count": 18,
   "id": "68777217",
   "metadata": {},
   "outputs": [
    {
     "name": "stdout",
     "output_type": "stream",
     "text": [
      "range(0, 3)\n"
     ]
    }
   ],
   "source": [
    "a = range (3)\n",
    "print (a)"
   ]
  },
  {
   "cell_type": "code",
   "execution_count": 19,
   "id": "3d970c2d",
   "metadata": {},
   "outputs": [
    {
     "name": "stdout",
     "output_type": "stream",
     "text": [
      "range(1, 5)\n"
     ]
    }
   ],
   "source": [
    "b = range (1, 5)\n",
    "print (b)"
   ]
  },
  {
   "cell_type": "code",
   "execution_count": 20,
   "id": "f94ca90a",
   "metadata": {},
   "outputs": [
    {
     "name": "stdout",
     "output_type": "stream",
     "text": [
      "[0, 1, 2, 3, 4, 5]\n",
      "(2, 3, 4, 5, 6, 7)\n",
      "{3, 5, 7, 9, 11}\n"
     ]
    }
   ],
   "source": [
    "# Podemos crear una list , tuple o set a partir de la función range\n",
    "\n",
    "c = list(range(6))\n",
    "print (c)\n",
    "\n",
    "# Si usamos dos valores como argumentos, indicamos punto de inicio y final (recuerda, el valor final es 1 menos del rango)\n",
    "\n",
    "d = tuple(range(2,8))\n",
    "print (d)\n",
    "\n",
    "# Si usamos 3 valores como argumentos, indicamos un intervalo entre los valores del rango\n",
    "\n",
    "e = set(range(3,13,2))\n",
    "print (e)"
   ]
  },
  {
   "cell_type": "markdown",
   "id": "011d418b",
   "metadata": {},
   "source": [
    "### Control de Flujo Iterativo (for-loop y while-loop)"
   ]
  },
  {
   "cell_type": "markdown",
   "id": "24ac1db5",
   "metadata": {},
   "source": [
    "##### for-loop lo solemos utilizar cuando sabemos cuantas iteraciones queremos que ocurran"
   ]
  },
  {
   "cell_type": "code",
   "execution_count": 21,
   "id": "c23fc52b",
   "metadata": {},
   "outputs": [
    {
     "name": "stdout",
     "output_type": "stream",
     "text": [
      "Ingrese un número: 5\n",
      "Tabla del: 5\n",
      "5 x 0 = 0\n",
      "5 x 1 = 5\n",
      "5 x 2 = 10\n",
      "5 x 3 = 15\n",
      "5 x 4 = 20\n",
      "5 x 5 = 25\n",
      "5 x 6 = 30\n",
      "5 x 7 = 35\n",
      "5 x 8 = 40\n",
      "5 x 9 = 45\n",
      "5 x 10 = 50\n",
      "5 x 11 = 55\n",
      "5 x 12 = 60\n",
      "5 x 13 = 65\n",
      "5 x 14 = 70\n"
     ]
    }
   ],
   "source": [
    "a = int(input(\"Ingrese un número: \"))\n",
    "\n",
    "print(\"Tabla del:\", a)\n",
    "\n",
    "for i in range(15):\n",
    "   r = a*i\n",
    "   print(a, \"x\", i, \"=\", r)"
   ]
  },
  {
   "cell_type": "markdown",
   "id": "d7799717",
   "metadata": {},
   "source": [
    "##### while-loop lo solemos utilizar cuando NO sabemos cuantas iteraciones ocurriran"
   ]
  },
  {
   "cell_type": "code",
   "execution_count": 22,
   "id": "1aa69568",
   "metadata": {},
   "outputs": [
    {
     "name": "stdout",
     "output_type": "stream",
     "text": [
      "1\n",
      "2\n",
      "3\n",
      "4\n",
      "5\n",
      "6\n",
      "7\n",
      "8\n"
     ]
    }
   ],
   "source": [
    "# Programa para mostrar números del 1 al 8 usando while-loop\n",
    "\n",
    "# iniciar la variable\n",
    "i = 1\n",
    "n = 8\n",
    "\n",
    "# while loop de i = 1 al 8\n",
    "while i <= n:\n",
    "    print(i)\n",
    "    i = i + 1"
   ]
  },
  {
   "cell_type": "code",
   "execution_count": 23,
   "id": "9835d233",
   "metadata": {},
   "outputs": [
    {
     "name": "stdout",
     "output_type": "stream",
     "text": [
      "Enter a number: 0\n",
      "total = 0\n"
     ]
    }
   ],
   "source": [
    "# Programa que calcula la sumatoria de n numeros\n",
    "# hasta que el usuario ingresa 0 usando while-loop\n",
    "\n",
    "total = 0\n",
    "\n",
    "number = int(input('Enter a number: '))\n",
    "\n",
    "# suma numeros hasta que se ingresa 0\n",
    "while number != 0:\n",
    "    total += number    # total = total + number\n",
    "    \n",
    "    # recibe otro valor (debe ser entero)\n",
    "    number = int(input('Enter a number: '))\n",
    "    \n",
    "\n",
    "print('total =', total)"
   ]
  },
  {
   "cell_type": "markdown",
   "id": "5a03111a",
   "metadata": {},
   "source": [
    "### Usando algunas funciones de python"
   ]
  },
  {
   "cell_type": "code",
   "execution_count": 25,
   "id": "6bc9b4dc",
   "metadata": {},
   "outputs": [],
   "source": [
    "l1 = [2, 4, 3, 7, 1]"
   ]
  },
  {
   "cell_type": "code",
   "execution_count": 26,
   "id": "0416ccaa",
   "metadata": {},
   "outputs": [],
   "source": [
    "t1 = (4, 6, 7, 1)"
   ]
  },
  {
   "cell_type": "code",
   "execution_count": 27,
   "id": "f4db56f9",
   "metadata": {},
   "outputs": [
    {
     "name": "stdout",
     "output_type": "stream",
     "text": [
      "8\n"
     ]
    }
   ],
   "source": [
    "print (max (2,5,7,8))"
   ]
  },
  {
   "cell_type": "code",
   "execution_count": 28,
   "id": "56f70eab",
   "metadata": {},
   "outputs": [
    {
     "name": "stdout",
     "output_type": "stream",
     "text": [
      "1\n"
     ]
    }
   ],
   "source": [
    "print (min (l1))"
   ]
  },
  {
   "cell_type": "code",
   "execution_count": 29,
   "id": "37e54f6f",
   "metadata": {},
   "outputs": [
    {
     "name": "stdout",
     "output_type": "stream",
     "text": [
      "(4, 0)\n"
     ]
    }
   ],
   "source": [
    "print (divmod (12, 3))"
   ]
  },
  {
   "cell_type": "code",
   "execution_count": 30,
   "id": "c6f58b8d",
   "metadata": {},
   "outputs": [
    {
     "name": "stdout",
     "output_type": "stream",
     "text": [
      "5\n"
     ]
    }
   ],
   "source": [
    "print (len(l1))"
   ]
  },
  {
   "cell_type": "code",
   "execution_count": 31,
   "id": "d1de3842",
   "metadata": {},
   "outputs": [
    {
     "name": "stdout",
     "output_type": "stream",
     "text": [
      "4\n"
     ]
    }
   ],
   "source": [
    "print (len(t1))"
   ]
  },
  {
   "cell_type": "code",
   "execution_count": 32,
   "id": "9567adec",
   "metadata": {},
   "outputs": [],
   "source": [
    "def multiplica_por_4(n):\n",
    "    print (n, \"multiplicado por 4 =\", (4 * n) )"
   ]
  },
  {
   "cell_type": "code",
   "execution_count": 33,
   "id": "9a1d3d3e",
   "metadata": {},
   "outputs": [
    {
     "name": "stdout",
     "output_type": "stream",
     "text": [
      "15 multiplicado por 4 = 60\n"
     ]
    }
   ],
   "source": [
    "multiplica_por_4(15)"
   ]
  },
  {
   "cell_type": "code",
   "execution_count": 34,
   "id": "f248078f",
   "metadata": {},
   "outputs": [
    {
     "name": "stdout",
     "output_type": "stream",
     "text": [
      "Help on built-in function divmod in module builtins:\n",
      "\n",
      "divmod(x, y, /)\n",
      "    Return the tuple (x//y, x%y).  Invariant: div*y + mod == x.\n",
      "\n"
     ]
    }
   ],
   "source": [
    "# La función help() te sirve para pedir información sobre distintas funciones\n",
    "\n",
    "help (divmod)"
   ]
  },
  {
   "cell_type": "code",
   "execution_count": null,
   "id": "6b519704",
   "metadata": {},
   "outputs": [],
   "source": []
  }
 ],
 "metadata": {
  "kernelspec": {
   "display_name": "Python 3 (ipykernel)",
   "language": "python",
   "name": "python3"
  },
  "language_info": {
   "codemirror_mode": {
    "name": "ipython",
    "version": 3
   },
   "file_extension": ".py",
   "mimetype": "text/x-python",
   "name": "python",
   "nbconvert_exporter": "python",
   "pygments_lexer": "ipython3",
   "version": "3.11.2"
  }
 },
 "nbformat": 4,
 "nbformat_minor": 5
}
