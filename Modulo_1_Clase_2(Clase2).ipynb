{
 "cells": [
  {
   "cell_type": "markdown",
   "id": "d10fe792",
   "metadata": {},
   "source": [
    "### Algunas operaciones básicas en Python"
   ]
  },
  {
   "cell_type": "code",
   "execution_count": 1,
   "id": "f8381b2b",
   "metadata": {},
   "outputs": [
    {
     "data": {
      "text/plain": [
       "True"
      ]
     },
     "execution_count": 1,
     "metadata": {},
     "output_type": "execute_result"
    }
   ],
   "source": [
    "3 == 3"
   ]
  },
  {
   "cell_type": "code",
   "execution_count": 2,
   "id": "b0e551ac",
   "metadata": {},
   "outputs": [
    {
     "data": {
      "text/plain": [
       "False"
      ]
     },
     "execution_count": 2,
     "metadata": {},
     "output_type": "execute_result"
    }
   ],
   "source": [
    "3 != 3"
   ]
  },
  {
   "cell_type": "code",
   "execution_count": 3,
   "id": "f77d5036",
   "metadata": {},
   "outputs": [
    {
     "data": {
      "text/plain": [
       "True"
      ]
     },
     "execution_count": 3,
     "metadata": {},
     "output_type": "execute_result"
    }
   ],
   "source": [
    "15 != 4"
   ]
  },
  {
   "cell_type": "code",
   "execution_count": 4,
   "id": "0c8c9304",
   "metadata": {},
   "outputs": [
    {
     "data": {
      "text/plain": [
       "True"
      ]
     },
     "execution_count": 4,
     "metadata": {},
     "output_type": "execute_result"
    }
   ],
   "source": [
    "\"abc\" == \"abc\""
   ]
  },
  {
   "cell_type": "code",
   "execution_count": 5,
   "id": "3b5cfd40",
   "metadata": {},
   "outputs": [
    {
     "data": {
      "text/plain": [
       "False"
      ]
     },
     "execution_count": 5,
     "metadata": {},
     "output_type": "execute_result"
    }
   ],
   "source": [
    "\"abc\" == \"abC\""
   ]
  },
  {
   "cell_type": "code",
   "execution_count": 6,
   "id": "874f8399",
   "metadata": {},
   "outputs": [
    {
     "data": {
      "text/plain": [
       "False"
      ]
     },
     "execution_count": 6,
     "metadata": {},
     "output_type": "execute_result"
    }
   ],
   "source": [
    "\"a\" > \"b\""
   ]
  },
  {
   "cell_type": "code",
   "execution_count": 7,
   "id": "60dc3f28",
   "metadata": {},
   "outputs": [
    {
     "data": {
      "text/plain": [
       "True"
      ]
     },
     "execution_count": 7,
     "metadata": {},
     "output_type": "execute_result"
    }
   ],
   "source": [
    "\"a\" < \"b\""
   ]
  },
  {
   "cell_type": "code",
   "execution_count": 8,
   "id": "a2b2253c",
   "metadata": {},
   "outputs": [
    {
     "data": {
      "text/plain": [
       "False"
      ]
     },
     "execution_count": 8,
     "metadata": {},
     "output_type": "execute_result"
    }
   ],
   "source": [
    "\"a\" < \"B\""
   ]
  },
  {
   "cell_type": "markdown",
   "id": "441882ac",
   "metadata": {},
   "source": [
    "### Definiendo variables"
   ]
  },
  {
   "cell_type": "code",
   "execution_count": 10,
   "id": "cee578ee",
   "metadata": {},
   "outputs": [],
   "source": [
    "dia = \"miercoles\"\n",
    "print (dia)"
   ]
  },
  {
   "cell_type": "code",
   "execution_count": 11,
   "id": "fa60bf6f",
   "metadata": {},
   "outputs": [
    {
     "data": {
      "text/plain": [
       "5.0"
      ]
     },
     "execution_count": 11,
     "metadata": {},
     "output_type": "execute_result"
    }
   ],
   "source": [
    "x = 2.0\n",
    "y = 3\n",
    "x + y"
   ]
  },
  {
   "cell_type": "markdown",
   "id": "11683ac2",
   "metadata": {},
   "source": [
    "### Aliasing de variables (2 variables que hace referencia a lo mismo)"
   ]
  },
  {
   "cell_type": "code",
   "execution_count": 12,
   "id": "cad4ecc6",
   "metadata": {},
   "outputs": [
    {
     "name": "stdout",
     "output_type": "stream",
     "text": [
      "miercoles\n"
     ]
    }
   ],
   "source": [
    "d = dia\n",
    "print (d)"
   ]
  },
  {
   "cell_type": "code",
   "execution_count": 13,
   "id": "ddf84bc5",
   "metadata": {},
   "outputs": [
    {
     "data": {
      "text/plain": [
       "True"
      ]
     },
     "execution_count": 13,
     "metadata": {},
     "output_type": "execute_result"
    }
   ],
   "source": [
    "d is dia"
   ]
  },
  {
   "cell_type": "code",
   "execution_count": 14,
   "id": "de1d0557",
   "metadata": {},
   "outputs": [
    {
     "data": {
      "text/plain": [
       "False"
      ]
     },
     "execution_count": 14,
     "metadata": {},
     "output_type": "execute_result"
    }
   ],
   "source": [
    "d is not dia"
   ]
  },
  {
   "cell_type": "markdown",
   "id": "1372378e",
   "metadata": {},
   "source": [
    "### List, tuples y sets (conjuntos)"
   ]
  },
  {
   "cell_type": "code",
   "execution_count": 15,
   "id": "e2236402",
   "metadata": {},
   "outputs": [
    {
     "name": "stdout",
     "output_type": "stream",
     "text": [
      "[1, 3, 5, 7, 1, 3]\n"
     ]
    },
    {
     "data": {
      "text/plain": [
       "list"
      ]
     },
     "execution_count": 15,
     "metadata": {},
     "output_type": "execute_result"
    }
   ],
   "source": [
    "# Se usan corchetes []\n",
    "\n",
    "a = [1, 3, 5, 7, 1, 3]\n",
    "print (a)\n",
    "type (a)"
   ]
  },
  {
   "cell_type": "code",
   "execution_count": 16,
   "id": "edd498a1",
   "metadata": {},
   "outputs": [
    {
     "name": "stdout",
     "output_type": "stream",
     "text": [
      "{1, 3, 5, 7}\n"
     ]
    },
    {
     "data": {
      "text/plain": [
       "set"
      ]
     },
     "execution_count": 16,
     "metadata": {},
     "output_type": "execute_result"
    }
   ],
   "source": [
    "# Podemos generar un set a partir de una lista\n",
    "\n",
    "b = set(a)\n",
    "print (b)\n",
    "type (b)"
   ]
  },
  {
   "cell_type": "code",
   "execution_count": 17,
   "id": "a9703f91",
   "metadata": {},
   "outputs": [
    {
     "name": "stdout",
     "output_type": "stream",
     "text": [
      "(3, 5, 3, 6, 7)\n"
     ]
    },
    {
     "data": {
      "text/plain": [
       "tuple"
      ]
     },
     "execution_count": 17,
     "metadata": {},
     "output_type": "execute_result"
    }
   ],
   "source": [
    "# Las tuplas se parecen a las listas, pero se crean usando parentesis (), pero sus elementos son inmutables\n",
    "# Es decir, si queremos modificar los valores, hay que crear una nueva tupla\n",
    "\n",
    "c = (3, 5, 3, 6, 7)\n",
    "print (c)\n",
    "type (c)"
   ]
  },
  {
   "cell_type": "markdown",
   "id": "45077477",
   "metadata": {},
   "source": [
    "### Estructuras de control de flujo condicionales (if, elif, else)"
   ]
  },
  {
   "cell_type": "code",
   "execution_count": 26,
   "id": "1d2bebac",
   "metadata": {},
   "outputs": [
    {
     "name": "stdout",
     "output_type": "stream",
     "text": [
      "n1 y n2 son iguales\n"
     ]
    }
   ],
   "source": [
    "# Prueba cambiando los valores de n1 y n2\n",
    "\n",
    "n1 = 7\n",
    "n2 = 7\n",
    "\n",
    "if n1 > n2:\n",
    "    print (\"n1 es mayor que n2\")\n",
    "elif n1 == n2:\n",
    "    print (\"n1 y n2 son iguales\")\n",
    "elif n1 >= n2:\n",
    "    print (\"n1 es mayor o igual que n2\")\n",
    "else:\n",
    "    print (\"n1 no es mayor que n2\")"
   ]
  },
  {
   "cell_type": "markdown",
   "id": "4be9be78",
   "metadata": {},
   "source": [
    "### Función range"
   ]
  },
  {
   "cell_type": "code",
   "execution_count": 27,
   "id": "42d5e14e",
   "metadata": {},
   "outputs": [
    {
     "name": "stdout",
     "output_type": "stream",
     "text": [
      "range(0, 3)\n"
     ]
    }
   ],
   "source": [
    "a = range (3)\n",
    "print (a)"
   ]
  },
  {
   "cell_type": "code",
   "execution_count": 28,
   "id": "737fa591",
   "metadata": {},
   "outputs": [
    {
     "name": "stdout",
     "output_type": "stream",
     "text": [
      "range(1, 5)\n"
     ]
    }
   ],
   "source": [
    "b = range (1, 5)\n",
    "print (b)"
   ]
  },
  {
   "cell_type": "code",
   "execution_count": 31,
   "id": "2f7e844c",
   "metadata": {},
   "outputs": [
    {
     "name": "stdout",
     "output_type": "stream",
     "text": [
      "[0, 1, 2, 3, 4, 5]\n",
      "(2, 3, 4, 5, 6, 7)\n",
      "{3, 5, 7, 9, 11}\n"
     ]
    }
   ],
   "source": [
    "# Podemos crear una list , tuple o set a partir de la función range\n",
    "\n",
    "c = list(range(6))\n",
    "print (c)\n",
    "\n",
    "# Si usamos dos valores como argumentos, indicamos punto de inicio y final (recuerda, el valor final es 1 menos del rango)\n",
    "\n",
    "d = tuple(range(2,8))\n",
    "print (d)\n",
    "\n",
    "# Si usamos 3 valores como argumentos, indicamos un intervalo entre los valores del rango\n",
    "\n",
    "e = set(range(3,13,2))\n",
    "print (e)"
   ]
  },
  {
   "cell_type": "markdown",
   "id": "7a8a662e",
   "metadata": {},
   "source": [
    "### Control de Flujo Iterativo (for-loop y while-loop)"
   ]
  },
  {
   "cell_type": "markdown",
   "id": "16675dca",
   "metadata": {},
   "source": [
    "##### for-loop lo solemos utilizar cuando sabemos cuantas iteraciones queremos que ocurran"
   ]
  },
  {
   "cell_type": "code",
   "execution_count": 7,
   "id": "e51e7c86",
   "metadata": {},
   "outputs": [
    {
     "name": "stdout",
     "output_type": "stream",
     "text": [
      "Ingrese un número: 4\n",
      "Tabla del: 4\n",
      "4 x 0 = 0\n",
      "4 x 1 = 4\n",
      "4 x 2 = 8\n",
      "4 x 3 = 12\n",
      "4 x 4 = 16\n",
      "4 x 5 = 20\n",
      "4 x 6 = 24\n",
      "4 x 7 = 28\n",
      "4 x 8 = 32\n",
      "4 x 9 = 36\n",
      "4 x 10 = 40\n",
      "4 x 11 = 44\n",
      "4 x 12 = 48\n",
      "4 x 13 = 52\n",
      "4 x 14 = 56\n"
     ]
    }
   ],
   "source": [
    "a = int(input(\"Ingrese un número: \"))\n",
    "\n",
    "print(\"Tabla del:\", a)\n",
    "\n",
    "for i in range(15):\n",
    "   r = a*i\n",
    "   print(a, \"x\", i, \"=\", r)"
   ]
  },
  {
   "cell_type": "markdown",
   "id": "f57936fa",
   "metadata": {},
   "source": [
    "##### while-loop lo solemos utilizar cuando NO sabemos cuantas iteraciones ocurriran"
   ]
  },
  {
   "cell_type": "code",
   "execution_count": 4,
   "id": "c8a6fd14",
   "metadata": {},
   "outputs": [
    {
     "name": "stdout",
     "output_type": "stream",
     "text": [
      "1\n",
      "2\n",
      "3\n",
      "4\n",
      "5\n",
      "6\n",
      "7\n",
      "8\n"
     ]
    }
   ],
   "source": [
    "# Programa para mostrar números del 1 al 8 usando while-loop\n",
    "\n",
    "# iniciar la variable\n",
    "i = 1\n",
    "n = 8\n",
    "\n",
    "# while loop de i = 1 al 8\n",
    "while i <= n:\n",
    "    print(i)\n",
    "    i = i + 1"
   ]
  },
  {
   "cell_type": "code",
   "execution_count": 9,
   "id": "a81c5546",
   "metadata": {},
   "outputs": [
    {
     "name": "stdout",
     "output_type": "stream",
     "text": [
      "Enter a number: 4\n",
      "Enter a number: 5\n",
      "Enter a number: 7\n",
      "Enter a number: 8\n",
      "Enter a number: 0\n",
      "Total = 24\n"
     ]
    }
   ],
   "source": [
    "# Programa que calcula la sumatoria de n numeros\n",
    "# hasta que el usuario ingresa 0 usando while-loop\n",
    "\n",
    "total = 0\n",
    "\n",
    "number = int(input('Enter a number: '))\n",
    "\n",
    "# suma numeros hasta que se ingresa 0\n",
    "while number != 0:\n",
    "    total += number    # total = total + number\n",
    "    \n",
    "    # recibe otro valor (debe ser entero)\n",
    "    number = int(input('Enter a number: '))\n",
    "    \n",
    "\n",
    "print('Total =', total)"
   ]
  },
  {
   "cell_type": "markdown",
   "id": "806b05f0",
   "metadata": {},
   "source": [
    "### Usando algunas funciones de python"
   ]
  },
  {
   "cell_type": "code",
   "execution_count": 10,
   "id": "910b8d91",
   "metadata": {},
   "outputs": [],
   "source": [
    "l1 = [2, 4, 3, 7, 1]"
   ]
  },
  {
   "cell_type": "code",
   "execution_count": 11,
   "id": "578052ec",
   "metadata": {},
   "outputs": [],
   "source": [
    "t1 = (4, 6, 7, 1)"
   ]
  },
  {
   "cell_type": "code",
   "execution_count": 12,
   "id": "b5ae9646",
   "metadata": {},
   "outputs": [
    {
     "name": "stdout",
     "output_type": "stream",
     "text": [
      "8\n"
     ]
    }
   ],
   "source": [
    "print (max (2,5,7,8))"
   ]
  },
  {
   "cell_type": "code",
   "execution_count": 13,
   "id": "321164ca",
   "metadata": {},
   "outputs": [
    {
     "name": "stdout",
     "output_type": "stream",
     "text": [
      "1\n"
     ]
    }
   ],
   "source": [
    "print (min (l1))"
   ]
  },
  {
   "cell_type": "code",
   "execution_count": 16,
   "id": "3d137a04",
   "metadata": {},
   "outputs": [
    {
     "name": "stdout",
     "output_type": "stream",
     "text": [
      "(2, 2)\n"
     ]
    }
   ],
   "source": [
    "print (divmod (12, 5))"
   ]
  },
  {
   "cell_type": "code",
   "execution_count": 17,
   "id": "60b97bd8",
   "metadata": {},
   "outputs": [
    {
     "name": "stdout",
     "output_type": "stream",
     "text": [
      "5\n"
     ]
    }
   ],
   "source": [
    "print (len(l1))"
   ]
  },
  {
   "cell_type": "code",
   "execution_count": null,
   "id": "0ebb14eb",
   "metadata": {},
   "outputs": [],
   "source": [
    "print (len(t1))"
   ]
  },
  {
   "cell_type": "code",
   "execution_count": 21,
   "id": "030f948e",
   "metadata": {},
   "outputs": [],
   "source": [
    "def multiplica_por_4(n):\n",
    "    print (n, \"multiplicado por 4 =\", (4 * n) )"
   ]
  },
  {
   "cell_type": "code",
   "execution_count": 22,
   "id": "0f439e68",
   "metadata": {},
   "outputs": [
    {
     "name": "stdout",
     "output_type": "stream",
     "text": [
      "15 multiplicado por 4 = 60\n"
     ]
    }
   ],
   "source": [
    "multiplica_por_4(15)"
   ]
  },
  {
   "cell_type": "code",
   "execution_count": 26,
   "id": "9c926b45",
   "metadata": {},
   "outputs": [
    {
     "name": "stdout",
     "output_type": "stream",
     "text": [
      "Help on class map in module builtins:\n",
      "\n",
      "class map(object)\n",
      " |  map(func, *iterables) --> map object\n",
      " |  \n",
      " |  Make an iterator that computes the function using arguments from\n",
      " |  each of the iterables.  Stops when the shortest iterable is exhausted.\n",
      " |  \n",
      " |  Methods defined here:\n",
      " |  \n",
      " |  __getattribute__(self, name, /)\n",
      " |      Return getattr(self, name).\n",
      " |  \n",
      " |  __iter__(self, /)\n",
      " |      Implement iter(self).\n",
      " |  \n",
      " |  __next__(self, /)\n",
      " |      Implement next(self).\n",
      " |  \n",
      " |  __reduce__(...)\n",
      " |      Return state information for pickling.\n",
      " |  \n",
      " |  ----------------------------------------------------------------------\n",
      " |  Static methods defined here:\n",
      " |  \n",
      " |  __new__(*args, **kwargs) from builtins.type\n",
      " |      Create and return a new object.  See help(type) for accurate signature.\n",
      "\n"
     ]
    }
   ],
   "source": [
    "# La función help() te sirve para pedir información sobre distintas funciones\n",
    "\n",
    "help (map)"
   ]
  },
  {
   "cell_type": "code",
   "execution_count": 27,
   "id": "c4b70641",
   "metadata": {},
   "outputs": [
    {
     "name": "stdout",
     "output_type": "stream",
     "text": [
      "Ingrese la anchura del rectángulo: 3\n",
      "Ingrese la altura del rectángulo: 6\n",
      "***\n",
      "***\n",
      "***\n",
      "***\n",
      "***\n",
      "***\n"
     ]
    }
   ],
   "source": [
    "def dibujar_rectangulo(ancho, alto):\n",
    "    for i in range(alto):\n",
    "        for j in range(ancho):\n",
    "            print(\"*\", end=\"\")\n",
    "        print()\n",
    "\n",
    "# Solicitar al usuario la anchura y altura del rectángulo\n",
    "anchura = int(input(\"Ingrese la anchura del rectángulo: \"))\n",
    "altura = int(input(\"Ingrese la altura del rectángulo: \"))\n",
    "\n",
    "# Llamar a la función para dibujar el rectángulo\n",
    "dibujar_rectangulo(anchura, altura)"
   ]
  },
  {
   "cell_type": "code",
   "execution_count": null,
   "id": "4ff668fd",
   "metadata": {},
   "outputs": [],
   "source": []
  }
 ],
 "metadata": {
  "kernelspec": {
   "display_name": "Python 3 (ipykernel)",
   "language": "python",
   "name": "python3"
  },
  "language_info": {
   "codemirror_mode": {
    "name": "ipython",
    "version": 3
   },
   "file_extension": ".py",
   "mimetype": "text/x-python",
   "name": "python",
   "nbconvert_exporter": "python",
   "pygments_lexer": "ipython3",
   "version": "3.11.2"
  }
 },
 "nbformat": 4,
 "nbformat_minor": 5
}
