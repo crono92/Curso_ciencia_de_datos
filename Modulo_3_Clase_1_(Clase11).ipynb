{
 "cells": [
  {
   "cell_type": "code",
   "execution_count": 8,
   "id": "06f08336-1335-49a1-8f6d-0af73ef73349",
   "metadata": {},
   "outputs": [
    {
     "name": "stdout",
     "output_type": "stream",
     "text": [
      "      alumno  nota\n",
      "0    Araceli     9\n",
      "1     Manuel     5\n",
      "2      Pablo     7\n",
      "3      Íñigo     4\n",
      "4      Mario     3\n",
      "5       Raúl     4\n",
      "6   Verónica     6\n",
      "7      Darío    10\n",
      "8      Laura     4\n",
      "9     Silvia     6\n",
      "10   Eduardo     2\n",
      "11    Susana     8\n",
      "12     María     5\n"
     ]
    }
   ],
   "source": [
    "import pandas as pd\n",
    "\n",
    "df = pd.read_csv(\"notas.csv\")\n",
    "print (df)"
   ]
  },
  {
   "cell_type": "code",
   "execution_count": 12,
   "id": "811c2892-ee66-464a-909d-64a209e8aa1e",
   "metadata": {},
   "outputs": [
    {
     "name": "stdout",
     "output_type": "stream",
     "text": [
      "5.62\n",
      "5\n",
      "0    4\n",
      "Name: nota, dtype: int64\n"
     ]
    }
   ],
   "source": [
    "media = df[\"nota\"].mean().round(2)\n",
    "mediana = df[\"nota\"].median().astype(int)\n",
    "moda = df[\"nota\"].mode()\n",
    "print(media)\n",
    "print(mediana)\n",
    "print(moda)"
   ]
  },
  {
   "cell_type": "code",
   "execution_count": null,
   "id": "52ee2e3c-c138-49be-a8dc-2cd581e74ca0",
   "metadata": {},
   "outputs": [],
   "source": []
  }
 ],
 "metadata": {
  "kernelspec": {
   "display_name": "Python 3 (ipykernel)",
   "language": "python",
   "name": "python3"
  },
  "language_info": {
   "codemirror_mode": {
    "name": "ipython",
    "version": 3
   },
   "file_extension": ".py",
   "mimetype": "text/x-python",
   "name": "python",
   "nbconvert_exporter": "python",
   "pygments_lexer": "ipython3",
   "version": "3.11.2"
  }
 },
 "nbformat": 4,
 "nbformat_minor": 5
}
