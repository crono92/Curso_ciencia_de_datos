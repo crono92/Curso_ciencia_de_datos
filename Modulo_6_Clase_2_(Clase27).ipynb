{
 "cells": [
  {
   "cell_type": "code",
   "execution_count": null,
   "id": "6b38f55b-2d1d-464d-9b3f-e8e56c468462",
   "metadata": {},
   "outputs": [],
   "source": [
    "!pip install plotly\n",
    "!pip install \"jupyterlab>=3\" \"ipywidgets>=7.6\""
   ]
  },
  {
   "cell_type": "code",
   "execution_count": null,
   "id": "516aff7c-dfc5-4549-a4cf-51991141b0c6",
   "metadata": {},
   "outputs": [],
   "source": [
    "!pip install jupyter-dash"
   ]
  },
  {
   "cell_type": "code",
   "execution_count": null,
   "id": "a8189416-e6fd-4ddb-bc6d-aa4b3c9925cd",
   "metadata": {},
   "outputs": [],
   "source": [
    "import plotly.figure_factory as ff\n",
    "import numpy as np\n",
    "np.random.seed(1)\n",
    "import pandas as pd\n",
    "from plotly.figure_factory import create_dendrogram"
   ]
  },
  {
   "cell_type": "code",
   "execution_count": null,
   "id": "061ca47f-3241-4c2b-8571-5a099a1dac1a",
   "metadata": {},
   "outputs": [],
   "source": [
    "X = np.random.rand(15, 12) # 15 samples, with 12 dimensions each\n",
    "fig = ff.create_dendrogram(X)\n",
    "fig.update_layout(width=800, height=500)\n",
    "fig.show()"
   ]
  },
  {
   "cell_type": "code",
   "execution_count": null,
   "id": "f3d0f5f1-ffa9-44ff-a871-e8f4ee65bf78",
   "metadata": {},
   "outputs": [],
   "source": [
    "import matplotlib.pyplot as plt\n",
    "import numpy as np\n",
    "import pandas as pd\n",
    "from sklearn import datasets\n",
    "from sklearn.datasets import make_blobs\n",
    "import seaborn as sns"
   ]
  },
  {
   "cell_type": "code",
   "execution_count": null,
   "id": "82ab0048-928e-4212-82a2-0caeb2f57a40",
   "metadata": {},
   "outputs": [],
   "source": [
    "def plot_dendrogram(model, **kwargs):\n",
    "    counts = np.zeros(model.children_.shape[0])\n",
    "    n_samples = len(model.labels_)\n",
    "    for i, merge in enumerate(model.children_):\n",
    "        current_count = 0\n",
    "        for child_idx in merge:\n",
    "            if child_idx < n_samples:\n",
    "                current_count += 1 # leaf node\n",
    "            else:\n",
    "                current_count += counts[child_idx - n_samples]\n",
    "        counts[i] = current_count\n",
    "    linkage_matrix = np.column_stack([model.children_,model.distances_,counts]).astype(float)\n",
    "    dendrogram(linkage_matrix, **kwargs)"
   ]
  },
  {
   "cell_type": "code",
   "execution_count": null,
   "id": "7567acf3-4141-4f8b-8744-df1910030bb4",
   "metadata": {},
   "outputs": [],
   "source": [
    "# Crear un conjunto de datos con 3 centros de cluster aleatorios y 1000 puntos de datos\n",
    "plt.subplot(222)\n",
    "plt.title(\"Cinco blobs\", fontsize=\"medium\")\n",
    "x, y = make_blobs(n_samples = 1000, centers = 5,n_features=2,cluster_std = 1.5, shuffle=True, random_state=31)\n",
    "plt.scatter(x[:, 0], x[:, 1], marker=\"o\", c=y, s=25, edgecolor=\"k\");"
   ]
  },
  {
   "cell_type": "code",
   "execution_count": null,
   "id": "909d1e0e-2bb1-4f5c-b8e2-e8ef40c6e6f7",
   "metadata": {},
   "outputs": [],
   "source": []
  }
 ],
 "metadata": {
  "kernelspec": {
   "display_name": "Python 3 (ipykernel)",
   "language": "python",
   "name": "python3"
  },
  "language_info": {
   "codemirror_mode": {
    "name": "ipython",
    "version": 3
   },
   "file_extension": ".py",
   "mimetype": "text/x-python",
   "name": "python",
   "nbconvert_exporter": "python",
   "pygments_lexer": "ipython3",
   "version": "3.11.2"
  }
 },
 "nbformat": 4,
 "nbformat_minor": 5
}
