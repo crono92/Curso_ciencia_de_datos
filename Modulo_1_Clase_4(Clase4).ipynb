{
 "cells": [
  {
   "cell_type": "markdown",
   "id": "0596a700",
   "metadata": {},
   "source": [
    "### Objetos en Python"
   ]
  },
  {
   "cell_type": "code",
   "execution_count": 1,
   "id": "55c6e30c",
   "metadata": {},
   "outputs": [
    {
     "name": "stdout",
     "output_type": "stream",
     "text": [
      "Guess the number: 1\n",
      "1 is less than the secret number\n",
      "Guess the number: 20\n",
      "You guessed the number: 20\n"
     ]
    }
   ],
   "source": [
    "# Adivinador de numeros\n",
    "secret_number = 20\n",
    " \n",
    "while True:\n",
    "   number = input('Guess the number: ')\n",
    " \n",
    "   try:\n",
    "       number = int(number)\n",
    "   except:\n",
    "       print('Sorry that is not a number')\n",
    "       continue\n",
    " \n",
    "   if number != secret_number:\n",
    "       if number > secret_number:\n",
    "           print(number, 'is greater than the secret number')\n",
    " \n",
    "       elif number < secret_number:\n",
    "           print(number, 'is less than the secret number')\n",
    "   else:\n",
    "       print('You guessed the number:', secret_number)\n",
    "       break"
   ]
  },
  {
   "cell_type": "markdown",
   "id": "cc28342f",
   "metadata": {},
   "source": [
    "### Programación estructurada vs orientada a objetos"
   ]
  },
  {
   "cell_type": "code",
   "execution_count": 2,
   "id": "ff19f257",
   "metadata": {},
   "outputs": [
    {
     "name": "stdout",
     "output_type": "stream",
     "text": [
      "What is your budget? 15\n",
      "You can afford the big coffee\n",
      "Your change is 9\n"
     ]
    }
   ],
   "source": [
    "#Creación de un programa que pide al usuario su presupuesto y le dice\n",
    "# que cafe puede comprar y su vuelto\n",
    "\n",
    "small = 2\n",
    "regular = 5\n",
    "big = 6\n",
    " \n",
    "user_budget = input('What is your budget? ')\n",
    " \n",
    "try:\n",
    "   user_budget = int(user_budget)\n",
    "except:\n",
    "   print('Please enter a number')\n",
    "   exit()\n",
    " \n",
    "if user_budget > 0:\n",
    "   if user_budget >= big:\n",
    "       print('You can afford the big coffee')\n",
    "       if user_budget == big:\n",
    "           print('It\\'s complete')\n",
    "       else:\n",
    "           print('Your change is', user_budget - big)\n",
    "   elif user_budget == regular:\n",
    "       print('You can afford the regular coffee')\n",
    "       print('It\\'s complete')\n",
    "   elif user_budget >= small:\n",
    "       print('You can buy the small coffee')\n",
    "       if user_budget == small:\n",
    "           print('It\\'s complete')\n",
    "       else:\n",
    "           print('Your change is', user_budget - small)"
   ]
  },
  {
   "cell_type": "code",
   "execution_count": 3,
   "id": "01815034",
   "metadata": {},
   "outputs": [],
   "source": [
    "# Mismo problema pero utilizando POO\n",
    "class Coffee:\n",
    "        # Constructor de la clase Coffee con 2 atributos, name y price\n",
    "        def __init__(self, name, price):\n",
    "                self.name = name\n",
    "                self.price = float(price)\n",
    "                \n",
    "        # Metodo para revisar si el presupuesto es valido\n",
    "        def check_budget(self, budget):\n",
    "                if not isinstance(budget, (int, float)):\n",
    "                        print('Enter float or int')\n",
    "                        exit()\n",
    "                if budget < 0: \n",
    "                    print('Sorry you don\\'t have money') \n",
    "                    exit() \n",
    "        #Metodo para entregar cambio\n",
    "        def get_change(self, budget):\n",
    "                return budget - self.price\n",
    "        \n",
    "        #Metodo para vender un cafe\n",
    "        def sell(self, budget):\n",
    "                self.check_budget(budget)\n",
    "                if budget >= self.price:\n",
    "                        print(f'You can buy the {self.name} coffee')\n",
    "                        if budget == self.price:\n",
    "                                print('It\\'s complete')\n",
    "                        else:\n",
    "                                print(f'Here is your change {self.get_change(budget)}$')\n",
    "\n",
    "                        exit('Thanks for your transaction')"
   ]
  },
  {
   "cell_type": "code",
   "execution_count": 4,
   "id": "0e64ed90",
   "metadata": {},
   "outputs": [
    {
     "name": "stdout",
     "output_type": "stream",
     "text": [
      "What is your budget? 20\n",
      "You can buy the Big coffee\n",
      "Here is your change 14.0$\n",
      "You can buy the Regular coffee\n",
      "Here is your change 15.0$\n",
      "You can buy the Small coffee\n",
      "Here is your change 18.0$\n"
     ]
    }
   ],
   "source": [
    "#Creando instancias de la clase Coffee\n",
    "small = Coffee('Small', 2)\n",
    "regular = Coffee('Regular', 5)\n",
    "big = Coffee('Big', 6)\n",
    " \n",
    "try:\n",
    "   user_budget = float(input('What is your budget? '))\n",
    "except ValueError:\n",
    "   exit('Please enter a number')\n",
    "  \n",
    "for coffee in [big, regular, small]:\n",
    "   coffee.sell(user_budget)"
   ]
  },
  {
   "cell_type": "code",
   "execution_count": 5,
   "id": "48da5454",
   "metadata": {},
   "outputs": [
    {
     "data": {
      "text/plain": [
       "True"
      ]
     },
     "execution_count": 5,
     "metadata": {},
     "output_type": "execute_result"
    }
   ],
   "source": [
    "isinstance (regular, Coffee)"
   ]
  },
  {
   "cell_type": "code",
   "execution_count": 6,
   "id": "e220bba8",
   "metadata": {},
   "outputs": [
    {
     "data": {
      "text/plain": [
       "['__class__',\n",
       " '__delattr__',\n",
       " '__dict__',\n",
       " '__dir__',\n",
       " '__doc__',\n",
       " '__eq__',\n",
       " '__format__',\n",
       " '__ge__',\n",
       " '__getattribute__',\n",
       " '__getstate__',\n",
       " '__gt__',\n",
       " '__hash__',\n",
       " '__init__',\n",
       " '__init_subclass__',\n",
       " '__le__',\n",
       " '__lt__',\n",
       " '__module__',\n",
       " '__ne__',\n",
       " '__new__',\n",
       " '__reduce__',\n",
       " '__reduce_ex__',\n",
       " '__repr__',\n",
       " '__setattr__',\n",
       " '__sizeof__',\n",
       " '__str__',\n",
       " '__subclasshook__',\n",
       " '__weakref__',\n",
       " 'check_budget',\n",
       " 'get_change',\n",
       " 'sell']"
      ]
     },
     "execution_count": 6,
     "metadata": {},
     "output_type": "execute_result"
    }
   ],
   "source": [
    "dir (Coffee)"
   ]
  },
  {
   "cell_type": "markdown",
   "id": "435637c2",
   "metadata": {},
   "source": [
    "### Diferencias entre variables de clase y de instancia"
   ]
  },
  {
   "cell_type": "code",
   "execution_count": 7,
   "id": "43e9994d",
   "metadata": {},
   "outputs": [],
   "source": [
    "class Perro:\n",
    "\n",
    "    familia = 'canino'         # variable de clase compartida por todas las instancias\n",
    "\n",
    "    def __init__(self, nombre):\n",
    "        self.nombre = nombre    # variable de instancia, única para cada una de estas\n",
    "\n",
    "d = Perro('Tepotepo')\n",
    "e = Perro('Fierro malo')"
   ]
  },
  {
   "cell_type": "code",
   "execution_count": 8,
   "id": "7555f656",
   "metadata": {},
   "outputs": [
    {
     "data": {
      "text/plain": [
       "'canino'"
      ]
     },
     "execution_count": 8,
     "metadata": {},
     "output_type": "execute_result"
    }
   ],
   "source": [
    "d.familia                  # compartido por todo Perro"
   ]
  },
  {
   "cell_type": "code",
   "execution_count": 9,
   "id": "5ca5d6d6",
   "metadata": {},
   "outputs": [
    {
     "data": {
      "text/plain": [
       "'canino'"
      ]
     },
     "execution_count": 9,
     "metadata": {},
     "output_type": "execute_result"
    }
   ],
   "source": [
    "e.familia                  # compartido por todo Perro"
   ]
  },
  {
   "cell_type": "code",
   "execution_count": 10,
   "id": "1198092f",
   "metadata": {},
   "outputs": [
    {
     "data": {
      "text/plain": [
       "'Tepotepo'"
      ]
     },
     "execution_count": 10,
     "metadata": {},
     "output_type": "execute_result"
    }
   ],
   "source": [
    "d.nombre                  # único para d"
   ]
  },
  {
   "cell_type": "code",
   "execution_count": 11,
   "id": "e0ec6b34",
   "metadata": {},
   "outputs": [
    {
     "data": {
      "text/plain": [
       "'Fierro malo'"
      ]
     },
     "execution_count": 11,
     "metadata": {},
     "output_type": "execute_result"
    }
   ],
   "source": [
    "e.nombre                  # único para e"
   ]
  },
  {
   "cell_type": "markdown",
   "id": "2ea70285",
   "metadata": {},
   "source": [
    "### Polimorfismo "
   ]
  },
  {
   "cell_type": "code",
   "execution_count": 12,
   "id": "60520522",
   "metadata": {},
   "outputs": [
    {
     "name": "stdout",
     "output_type": "stream",
     "text": [
      "4\n"
     ]
    }
   ],
   "source": [
    "# Función len() usada en string\n",
    "print(len(\"hola\"))"
   ]
  },
  {
   "cell_type": "code",
   "execution_count": 13,
   "id": "2c788d4d",
   "metadata": {},
   "outputs": [
    {
     "name": "stdout",
     "output_type": "stream",
     "text": [
      "3\n"
     ]
    }
   ],
   "source": [
    "# Función len() usada en una lista\n",
    "print(len([10, 20, 30]))"
   ]
  },
  {
   "cell_type": "code",
   "execution_count": 14,
   "id": "fee81331",
   "metadata": {},
   "outputs": [
    {
     "name": "stdout",
     "output_type": "stream",
     "text": [
      "El saldo es 1000 €\n"
     ]
    }
   ],
   "source": [
    "#Init inicializa el objeto que se crea\n",
    "class Tarjeta:\n",
    "    def __init__(self, id, cantidad = 0):\n",
    "        self.id = id\n",
    "        self.saldo = cantidad\n",
    "        return\n",
    "    def mostrar_saldo(self):\n",
    "        print(\"El saldo es\", self.saldo, \"€\")\n",
    "        return\n",
    "\n",
    "t = Tarjeta('1111111111', 1000)\n",
    "t.mostrar_saldo()"
   ]
  },
  {
   "cell_type": "code",
   "execution_count": 15,
   "id": "13d003eb",
   "metadata": {},
   "outputs": [
    {
     "name": "stdout",
     "output_type": "stream",
     "text": [
      "Tarjeta número 0123456789 con saldo 1000.00€\n"
     ]
    }
   ],
   "source": [
    "#Str Se invoca cada vez que se llama a las funciones print o str. Devuelve siempre una cadena \n",
    "class Tarjeta:\n",
    "    def __init__(self, numero, cantidad):\n",
    "        self.numero = numero\n",
    "        self.saldo = cantidad\n",
    "        return\n",
    "    def __str__(self):\n",
    "        return \"Tarjeta número {self.numero} con saldo {self.saldo}.00€\".format(self= self)\n",
    "   \n",
    "\n",
    "t = Tarjeta('0123456789', 1000)\n",
    "print(t)"
   ]
  },
  {
   "cell_type": "code",
   "execution_count": null,
   "id": "68ca195d",
   "metadata": {},
   "outputs": [],
   "source": []
  }
 ],
 "metadata": {
  "kernelspec": {
   "display_name": "Python 3 (ipykernel)",
   "language": "python",
   "name": "python3"
  },
  "language_info": {
   "codemirror_mode": {
    "name": "ipython",
    "version": 3
   },
   "file_extension": ".py",
   "mimetype": "text/x-python",
   "name": "python",
   "nbconvert_exporter": "python",
   "pygments_lexer": "ipython3",
   "version": "3.11.2"
  }
 },
 "nbformat": 4,
 "nbformat_minor": 5
}
