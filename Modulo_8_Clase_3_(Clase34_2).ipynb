{
 "cells": [
  {
   "cell_type": "code",
   "execution_count": 1,
   "id": "98065419",
   "metadata": {},
   "outputs": [
    {
     "name": "stdout",
     "output_type": "stream",
     "text": [
      "Using pip 23.1.2 from C:\\Users\\Rodrigo\\anaconda3\\envs\\PR_NE\\Lib\\site-packages\\pip (python 3.11)"
     ]
    },
    {
     "name": "stderr",
     "output_type": "stream",
     "text": [
      "\n",
      "[notice] A new release of pip is available: 23.1.2 -> 24.0\n",
      "[notice] To update, run: python.exe -m pip install --upgrade pip\n"
     ]
    },
    {
     "name": "stdout",
     "output_type": "stream",
     "text": [
      "\n",
      "Collecting pyspark\n",
      "  Using cached pyspark-3.5.1-py2.py3-none-any.whl\n",
      "Requirement already satisfied: py4j==0.10.9.7 in c:\\users\\rodrigo\\anaconda3\\envs\\pr_ne\\lib\\site-packages (from pyspark) (0.10.9.7)\n",
      "Installing collected packages: pyspark\n",
      "Successfully installed pyspark-3.5.1\n"
     ]
    }
   ],
   "source": [
    "!pip install pyspark -v"
   ]
  },
  {
   "cell_type": "code",
   "execution_count": 2,
   "id": "84ed1ad8",
   "metadata": {},
   "outputs": [],
   "source": [
    "from pyspark.sql import SparkSession"
   ]
  },
  {
   "cell_type": "code",
   "execution_count": 3,
   "id": "6698bb2f",
   "metadata": {},
   "outputs": [],
   "source": [
    "spark = SparkSession.builder.appName('SparkByExamples.com').getOrCreate()"
   ]
  },
  {
   "cell_type": "code",
   "execution_count": 4,
   "id": "342461ee",
   "metadata": {},
   "outputs": [],
   "source": [
    "import pandas as pd"
   ]
  },
  {
   "cell_type": "code",
   "execution_count": 5,
   "id": "593ee764",
   "metadata": {},
   "outputs": [
    {
     "name": "stdout",
     "output_type": "stream",
     "text": [
      "+-----+----+-----+-----+-----+---+-------+-------+------+-------+------+-------+----+-------+\n",
      "|years|sexo|dolor| pres|  col|sug|electro|fcarmax|angina|oldpeak|pendst|vasprin|thal|enfermo|\n",
      "+-----+----+-----+-----+-----+---+-------+-------+------+-------+------+-------+----+-------+\n",
      "| 70.0| 1.0|  4.0|130.0|322.0|0.0|    2.0|  109.0|   0.0|    2.4|   2.0|    3.0| 3.0|      1|\n",
      "| 67.0| 0.0|  3.0|115.0|564.0|0.0|    2.0|  160.0|   0.0|    1.6|   2.0|    0.0| 7.0|      0|\n",
      "| 57.0| 1.0|  2.0|124.0|261.0|0.0|    0.0|  141.0|   0.0|    0.3|   1.0|    0.0| 7.0|      1|\n",
      "| 64.0| 1.0|  4.0|128.0|263.0|0.0|    0.0|  105.0|   1.0|    0.2|   2.0|    1.0| 7.0|      0|\n",
      "| 74.0| 0.0|  2.0|120.0|269.0|0.0|    2.0|  121.0|   1.0|    0.2|   1.0|    1.0| 3.0|      0|\n",
      "| 65.0| 1.0|  4.0|120.0|177.0|0.0|    0.0|  140.0|   0.0|    0.4|   1.0|    0.0| 7.0|      0|\n",
      "| 56.0| 1.0|  3.0|130.0|256.0|1.0|    2.0|  142.0|   1.0|    0.6|   2.0|    1.0| 6.0|      1|\n",
      "| 59.0| 1.0|  4.0|110.0|239.0|0.0|    2.0|  142.0|   1.0|    1.2|   2.0|    1.0| 7.0|      1|\n",
      "| 60.0| 1.0|  4.0|140.0|293.0|0.0|    2.0|  170.0|   0.0|    1.2|   2.0|    2.0| 7.0|      1|\n",
      "| 63.0| 0.0|  4.0|150.0|407.0|0.0|    2.0|  154.0|   0.0|    4.0|   2.0|    3.0| 7.0|      1|\n",
      "| 59.0| 1.0|  4.0|135.0|234.0|0.0|    0.0|  161.0|   0.0|    0.5|   2.0|    0.0| 7.0|      0|\n",
      "| 53.0| 1.0|  4.0|142.0|226.0|0.0|    2.0|  111.0|   1.0|    0.0|   1.0|    0.0| 7.0|      0|\n",
      "| 44.0| 1.0|  3.0|140.0|235.0|0.0|    2.0|  180.0|   0.0|    0.0|   1.0|    0.0| 3.0|      0|\n",
      "| 61.0| 1.0|  1.0|134.0|234.0|0.0|    0.0|  145.0|   0.0|    2.6|   2.0|    2.0| 3.0|      1|\n",
      "| 57.0| 0.0|  4.0|128.0|303.0|0.0|    2.0|  159.0|   0.0|    0.0|   1.0|    1.0| 3.0|      0|\n",
      "| 71.0| 0.0|  4.0|112.0|149.0|0.0|    0.0|  125.0|   0.0|    1.6|   2.0|    0.0| 3.0|      0|\n",
      "| 46.0| 1.0|  4.0|140.0|311.0|0.0|    0.0|  120.0|   1.0|    1.8|   2.0|    2.0| 7.0|      1|\n",
      "| 53.0| 1.0|  4.0|140.0|203.0|1.0|    2.0|  155.0|   1.0|    3.1|   3.0|    0.0| 7.0|      1|\n",
      "| 64.0| 1.0|  1.0|110.0|211.0|0.0|    2.0|  144.0|   1.0|    1.8|   2.0|    0.0| 3.0|      0|\n",
      "| 40.0| 1.0|  1.0|140.0|199.0|0.0|    0.0|  178.0|   1.0|    1.4|   1.0|    0.0| 7.0|      0|\n",
      "+-----+----+-----+-----+-----+---+-------+-------+------+-------+------+-------+----+-------+\n",
      "only showing top 20 rows\n",
      "\n"
     ]
    }
   ],
   "source": [
    "df = (spark.read\n",
    "  .format(\"csv\")\n",
    "  .option(\"header\", \"true\")\n",
    "  .option(\"inferSchema\", \"true\")\n",
    "  .option(\"delimiter\", \";\")\n",
    "  .csv(\"heart.csv\")\n",
    ")\n",
    "\n",
    "df.show()"
   ]
  },
  {
   "cell_type": "code",
   "execution_count": 6,
   "id": "ff3a3b74",
   "metadata": {},
   "outputs": [
    {
     "name": "stdout",
     "output_type": "stream",
     "text": [
      "root\n",
      " |-- years: double (nullable = true)\n",
      " |-- sexo: double (nullable = true)\n",
      " |-- dolor: double (nullable = true)\n",
      " |-- pres: double (nullable = true)\n",
      " |-- col: double (nullable = true)\n",
      " |-- sug: double (nullable = true)\n",
      " |-- electro: double (nullable = true)\n",
      " |-- fcarmax: double (nullable = true)\n",
      " |-- angina: double (nullable = true)\n",
      " |-- oldpeak: double (nullable = true)\n",
      " |-- pendst: double (nullable = true)\n",
      " |-- vasprin: double (nullable = true)\n",
      " |-- thal: double (nullable = true)\n",
      " |-- enfermo: integer (nullable = true)\n",
      "\n"
     ]
    }
   ],
   "source": [
    "df.cache()\n",
    "df.printSchema()"
   ]
  },
  {
   "cell_type": "code",
   "execution_count": 7,
   "id": "121f0df8",
   "metadata": {},
   "outputs": [
    {
     "data": {
      "text/html": [
       "<div>\n",
       "<style scoped>\n",
       "    .dataframe tbody tr th:only-of-type {\n",
       "        vertical-align: middle;\n",
       "    }\n",
       "\n",
       "    .dataframe tbody tr th {\n",
       "        vertical-align: top;\n",
       "    }\n",
       "\n",
       "    .dataframe thead th {\n",
       "        text-align: right;\n",
       "    }\n",
       "</style>\n",
       "<table border=\"1\" class=\"dataframe\">\n",
       "  <thead>\n",
       "    <tr style=\"text-align: right;\">\n",
       "      <th></th>\n",
       "      <th>0</th>\n",
       "      <th>1</th>\n",
       "      <th>2</th>\n",
       "      <th>3</th>\n",
       "      <th>4</th>\n",
       "    </tr>\n",
       "  </thead>\n",
       "  <tbody>\n",
       "    <tr>\n",
       "      <th>summary</th>\n",
       "      <td>count</td>\n",
       "      <td>mean</td>\n",
       "      <td>stddev</td>\n",
       "      <td>min</td>\n",
       "      <td>max</td>\n",
       "    </tr>\n",
       "    <tr>\n",
       "      <th>years</th>\n",
       "      <td>270</td>\n",
       "      <td>54.43333333333333</td>\n",
       "      <td>9.109066523898207</td>\n",
       "      <td>29.0</td>\n",
       "      <td>77.0</td>\n",
       "    </tr>\n",
       "    <tr>\n",
       "      <th>sexo</th>\n",
       "      <td>270</td>\n",
       "      <td>0.6777777777777778</td>\n",
       "      <td>0.4681954071552696</td>\n",
       "      <td>0.0</td>\n",
       "      <td>1.0</td>\n",
       "    </tr>\n",
       "    <tr>\n",
       "      <th>dolor</th>\n",
       "      <td>270</td>\n",
       "      <td>3.174074074074074</td>\n",
       "      <td>0.9500900339228637</td>\n",
       "      <td>1.0</td>\n",
       "      <td>4.0</td>\n",
       "    </tr>\n",
       "    <tr>\n",
       "      <th>pres</th>\n",
       "      <td>270</td>\n",
       "      <td>131.34444444444443</td>\n",
       "      <td>17.861608292800856</td>\n",
       "      <td>94.0</td>\n",
       "      <td>200.0</td>\n",
       "    </tr>\n",
       "    <tr>\n",
       "      <th>col</th>\n",
       "      <td>270</td>\n",
       "      <td>249.65925925925927</td>\n",
       "      <td>51.68623711643123</td>\n",
       "      <td>126.0</td>\n",
       "      <td>564.0</td>\n",
       "    </tr>\n",
       "    <tr>\n",
       "      <th>sug</th>\n",
       "      <td>270</td>\n",
       "      <td>0.14814814814814814</td>\n",
       "      <td>0.35590647697073136</td>\n",
       "      <td>0.0</td>\n",
       "      <td>1.0</td>\n",
       "    </tr>\n",
       "    <tr>\n",
       "      <th>electro</th>\n",
       "      <td>270</td>\n",
       "      <td>1.0222222222222221</td>\n",
       "      <td>0.9978912089661106</td>\n",
       "      <td>0.0</td>\n",
       "      <td>2.0</td>\n",
       "    </tr>\n",
       "    <tr>\n",
       "      <th>fcarmax</th>\n",
       "      <td>270</td>\n",
       "      <td>149.67777777777778</td>\n",
       "      <td>23.16571677512012</td>\n",
       "      <td>71.0</td>\n",
       "      <td>202.0</td>\n",
       "    </tr>\n",
       "    <tr>\n",
       "      <th>angina</th>\n",
       "      <td>270</td>\n",
       "      <td>0.3296296296296296</td>\n",
       "      <td>0.4709515913013828</td>\n",
       "      <td>0.0</td>\n",
       "      <td>1.0</td>\n",
       "    </tr>\n",
       "    <tr>\n",
       "      <th>oldpeak</th>\n",
       "      <td>270</td>\n",
       "      <td>1.0499999999999996</td>\n",
       "      <td>1.145209839377997</td>\n",
       "      <td>0.0</td>\n",
       "      <td>6.2</td>\n",
       "    </tr>\n",
       "    <tr>\n",
       "      <th>pendst</th>\n",
       "      <td>270</td>\n",
       "      <td>1.5851851851851853</td>\n",
       "      <td>0.6143898376781299</td>\n",
       "      <td>1.0</td>\n",
       "      <td>3.0</td>\n",
       "    </tr>\n",
       "    <tr>\n",
       "      <th>vasprin</th>\n",
       "      <td>270</td>\n",
       "      <td>0.6703703703703704</td>\n",
       "      <td>0.9438963834881158</td>\n",
       "      <td>0.0</td>\n",
       "      <td>3.0</td>\n",
       "    </tr>\n",
       "    <tr>\n",
       "      <th>thal</th>\n",
       "      <td>270</td>\n",
       "      <td>4.696296296296296</td>\n",
       "      <td>1.9406589693457779</td>\n",
       "      <td>3.0</td>\n",
       "      <td>7.0</td>\n",
       "    </tr>\n",
       "    <tr>\n",
       "      <th>enfermo</th>\n",
       "      <td>270</td>\n",
       "      <td>0.4444444444444444</td>\n",
       "      <td>0.4978267515886163</td>\n",
       "      <td>0</td>\n",
       "      <td>1</td>\n",
       "    </tr>\n",
       "  </tbody>\n",
       "</table>\n",
       "</div>"
      ],
      "text/plain": [
       "             0                    1                    2      3      4\n",
       "summary  count                 mean               stddev    min    max\n",
       "years      270    54.43333333333333    9.109066523898207   29.0   77.0\n",
       "sexo       270   0.6777777777777778   0.4681954071552696    0.0    1.0\n",
       "dolor      270    3.174074074074074   0.9500900339228637    1.0    4.0\n",
       "pres       270   131.34444444444443   17.861608292800856   94.0  200.0\n",
       "col        270   249.65925925925927    51.68623711643123  126.0  564.0\n",
       "sug        270  0.14814814814814814  0.35590647697073136    0.0    1.0\n",
       "electro    270   1.0222222222222221   0.9978912089661106    0.0    2.0\n",
       "fcarmax    270   149.67777777777778    23.16571677512012   71.0  202.0\n",
       "angina     270   0.3296296296296296   0.4709515913013828    0.0    1.0\n",
       "oldpeak    270   1.0499999999999996    1.145209839377997    0.0    6.2\n",
       "pendst     270   1.5851851851851853   0.6143898376781299    1.0    3.0\n",
       "vasprin    270   0.6703703703703704   0.9438963834881158    0.0    3.0\n",
       "thal       270    4.696296296296296   1.9406589693457779    3.0    7.0\n",
       "enfermo    270   0.4444444444444444   0.4978267515886163      0      1"
      ]
     },
     "execution_count": 7,
     "metadata": {},
     "output_type": "execute_result"
    }
   ],
   "source": [
    "df.describe().toPandas().transpose()"
   ]
  },
  {
   "cell_type": "code",
   "execution_count": 8,
   "id": "11a42dc1",
   "metadata": {},
   "outputs": [],
   "source": [
    "from pyspark.ml.linalg import Vector\n",
    "from pyspark.ml.feature import VectorAssembler"
   ]
  },
  {
   "cell_type": "code",
   "execution_count": 9,
   "id": "fbf76057",
   "metadata": {},
   "outputs": [
    {
     "data": {
      "text/plain": [
       "['years',\n",
       " 'sexo',\n",
       " 'dolor',\n",
       " 'pres',\n",
       " 'col',\n",
       " 'sug',\n",
       " 'electro',\n",
       " 'fcarmax',\n",
       " 'angina',\n",
       " 'oldpeak',\n",
       " 'pendst',\n",
       " 'vasprin',\n",
       " 'thal',\n",
       " 'enfermo']"
      ]
     },
     "execution_count": 9,
     "metadata": {},
     "output_type": "execute_result"
    }
   ],
   "source": [
    "df.columns"
   ]
  },
  {
   "cell_type": "code",
   "execution_count": 10,
   "id": "91135c6e",
   "metadata": {},
   "outputs": [],
   "source": [
    "assembler = VectorAssembler (inputCols= ['years','sexo','dolor','pres',\n",
    "                                         'col','sug','electro','fcarmax',\n",
    "                                         'angina','oldpeak','pendst',\n",
    "                                         'vasprin','thal'],\n",
    "                            outputCol= \"features\")"
   ]
  },
  {
   "cell_type": "code",
   "execution_count": 11,
   "id": "36c43740",
   "metadata": {},
   "outputs": [],
   "source": [
    "output = assembler.transform(df)"
   ]
  },
  {
   "cell_type": "code",
   "execution_count": 12,
   "id": "81a52f69",
   "metadata": {},
   "outputs": [
    {
     "name": "stdout",
     "output_type": "stream",
     "text": [
      "+-----+----+-----+-----+-----+---+-------+-------+------+-------+------+-------+----+-------+--------------------+\n",
      "|years|sexo|dolor| pres|  col|sug|electro|fcarmax|angina|oldpeak|pendst|vasprin|thal|enfermo|            features|\n",
      "+-----+----+-----+-----+-----+---+-------+-------+------+-------+------+-------+----+-------+--------------------+\n",
      "| 70.0| 1.0|  4.0|130.0|322.0|0.0|    2.0|  109.0|   0.0|    2.4|   2.0|    3.0| 3.0|      1|[70.0,1.0,4.0,130...|\n",
      "| 67.0| 0.0|  3.0|115.0|564.0|0.0|    2.0|  160.0|   0.0|    1.6|   2.0|    0.0| 7.0|      0|[67.0,0.0,3.0,115...|\n",
      "| 57.0| 1.0|  2.0|124.0|261.0|0.0|    0.0|  141.0|   0.0|    0.3|   1.0|    0.0| 7.0|      1|[57.0,1.0,2.0,124...|\n",
      "| 64.0| 1.0|  4.0|128.0|263.0|0.0|    0.0|  105.0|   1.0|    0.2|   2.0|    1.0| 7.0|      0|[64.0,1.0,4.0,128...|\n",
      "| 74.0| 0.0|  2.0|120.0|269.0|0.0|    2.0|  121.0|   1.0|    0.2|   1.0|    1.0| 3.0|      0|[74.0,0.0,2.0,120...|\n",
      "| 65.0| 1.0|  4.0|120.0|177.0|0.0|    0.0|  140.0|   0.0|    0.4|   1.0|    0.0| 7.0|      0|[65.0,1.0,4.0,120...|\n",
      "| 56.0| 1.0|  3.0|130.0|256.0|1.0|    2.0|  142.0|   1.0|    0.6|   2.0|    1.0| 6.0|      1|[56.0,1.0,3.0,130...|\n",
      "| 59.0| 1.0|  4.0|110.0|239.0|0.0|    2.0|  142.0|   1.0|    1.2|   2.0|    1.0| 7.0|      1|[59.0,1.0,4.0,110...|\n",
      "| 60.0| 1.0|  4.0|140.0|293.0|0.0|    2.0|  170.0|   0.0|    1.2|   2.0|    2.0| 7.0|      1|[60.0,1.0,4.0,140...|\n",
      "| 63.0| 0.0|  4.0|150.0|407.0|0.0|    2.0|  154.0|   0.0|    4.0|   2.0|    3.0| 7.0|      1|[63.0,0.0,4.0,150...|\n",
      "| 59.0| 1.0|  4.0|135.0|234.0|0.0|    0.0|  161.0|   0.0|    0.5|   2.0|    0.0| 7.0|      0|[59.0,1.0,4.0,135...|\n",
      "| 53.0| 1.0|  4.0|142.0|226.0|0.0|    2.0|  111.0|   1.0|    0.0|   1.0|    0.0| 7.0|      0|[53.0,1.0,4.0,142...|\n",
      "| 44.0| 1.0|  3.0|140.0|235.0|0.0|    2.0|  180.0|   0.0|    0.0|   1.0|    0.0| 3.0|      0|[44.0,1.0,3.0,140...|\n",
      "| 61.0| 1.0|  1.0|134.0|234.0|0.0|    0.0|  145.0|   0.0|    2.6|   2.0|    2.0| 3.0|      1|[61.0,1.0,1.0,134...|\n",
      "| 57.0| 0.0|  4.0|128.0|303.0|0.0|    2.0|  159.0|   0.0|    0.0|   1.0|    1.0| 3.0|      0|[57.0,0.0,4.0,128...|\n",
      "| 71.0| 0.0|  4.0|112.0|149.0|0.0|    0.0|  125.0|   0.0|    1.6|   2.0|    0.0| 3.0|      0|[71.0,0.0,4.0,112...|\n",
      "| 46.0| 1.0|  4.0|140.0|311.0|0.0|    0.0|  120.0|   1.0|    1.8|   2.0|    2.0| 7.0|      1|[46.0,1.0,4.0,140...|\n",
      "| 53.0| 1.0|  4.0|140.0|203.0|1.0|    2.0|  155.0|   1.0|    3.1|   3.0|    0.0| 7.0|      1|[53.0,1.0,4.0,140...|\n",
      "| 64.0| 1.0|  1.0|110.0|211.0|0.0|    2.0|  144.0|   1.0|    1.8|   2.0|    0.0| 3.0|      0|[64.0,1.0,1.0,110...|\n",
      "| 40.0| 1.0|  1.0|140.0|199.0|0.0|    0.0|  178.0|   1.0|    1.4|   1.0|    0.0| 7.0|      0|[40.0,1.0,1.0,140...|\n",
      "+-----+----+-----+-----+-----+---+-------+-------+------+-------+------+-------+----+-------+--------------------+\n",
      "only showing top 20 rows\n",
      "\n"
     ]
    }
   ],
   "source": [
    "output.show()"
   ]
  },
  {
   "cell_type": "code",
   "execution_count": 13,
   "id": "c2186828",
   "metadata": {},
   "outputs": [],
   "source": [
    "from pyspark.ml.feature import StandardScaler"
   ]
  },
  {
   "cell_type": "code",
   "execution_count": 14,
   "id": "4554e1f9",
   "metadata": {},
   "outputs": [],
   "source": [
    "scaler = StandardScaler(inputCol=\"features\", outputCol=\"scaledfeatures\",\n",
    "                       withMean= True, withStd= True)"
   ]
  },
  {
   "cell_type": "code",
   "execution_count": 15,
   "id": "d3c610b5",
   "metadata": {},
   "outputs": [],
   "source": [
    "scalerModel = scaler.fit(output)"
   ]
  },
  {
   "cell_type": "code",
   "execution_count": null,
   "id": "9d4d8d53",
   "metadata": {},
   "outputs": [],
   "source": [
    "scalerModel"
   ]
  },
  {
   "cell_type": "code",
   "execution_count": null,
   "id": "a1a744fc",
   "metadata": {},
   "outputs": [],
   "source": [
    "scaledData= scalerModel.transform(output)"
   ]
  },
  {
   "cell_type": "code",
   "execution_count": null,
   "id": "4f14758c",
   "metadata": {},
   "outputs": [],
   "source": [
    "scaledData.show()"
   ]
  },
  {
   "cell_type": "code",
   "execution_count": null,
   "id": "cedc0609",
   "metadata": {},
   "outputs": [],
   "source": [
    "scaledData.select(\"scaledfeatures\").show()"
   ]
  },
  {
   "cell_type": "code",
   "execution_count": null,
   "id": "7481f940",
   "metadata": {},
   "outputs": [],
   "source": [
    "scaledData.select(\"scaledfeatures\").show(truncate= False)"
   ]
  },
  {
   "cell_type": "markdown",
   "id": "5e3f32cd",
   "metadata": {},
   "source": [
    "### Train/Test split"
   ]
  },
  {
   "cell_type": "code",
   "execution_count": null,
   "id": "09996e00",
   "metadata": {},
   "outputs": [],
   "source": [
    "train, test = scaledData.randomSplit([0.5, 0.5], seed = 0)"
   ]
  },
  {
   "cell_type": "code",
   "execution_count": null,
   "id": "5c63f233",
   "metadata": {},
   "outputs": [],
   "source": [
    "print(train.count())\n",
    "print(test.count())"
   ]
  },
  {
   "cell_type": "markdown",
   "id": "c7088dd9",
   "metadata": {},
   "source": [
    "### Logistic Regression"
   ]
  },
  {
   "cell_type": "code",
   "execution_count": null,
   "id": "eff25bab",
   "metadata": {},
   "outputs": [],
   "source": [
    "from pyspark.ml.classification import LogisticRegression"
   ]
  },
  {
   "cell_type": "code",
   "execution_count": null,
   "id": "bf8d6c47",
   "metadata": {},
   "outputs": [],
   "source": [
    "scaledData= scaledData.drop(\"features\")\n",
    "scaledData"
   ]
  },
  {
   "cell_type": "code",
   "execution_count": null,
   "id": "32ba802d",
   "metadata": {},
   "outputs": [],
   "source": [
    "df2 = scaledData.withColumnRenamed(\"scaledfeatures\",\"features\") \\\n",
    "    .withColumnRenamed(\"enfermo\",\"label\")\n",
    "df2.printSchema()"
   ]
  },
  {
   "cell_type": "code",
   "execution_count": null,
   "id": "a327aada",
   "metadata": {},
   "outputs": [],
   "source": [
    "df2= df2.drop('years','sexo','dolor','pres','col','sug','electro','fcarmax',\n",
    "         'angina','oldpeak','pendst','vasprin','thal')"
   ]
  },
  {
   "cell_type": "code",
   "execution_count": null,
   "id": "32a58fbb",
   "metadata": {},
   "outputs": [],
   "source": [
    "df2.show(truncate= False)"
   ]
  },
  {
   "cell_type": "code",
   "execution_count": null,
   "id": "4ad95bab",
   "metadata": {},
   "outputs": [],
   "source": [
    "df2 = df2['features','label']\n",
    "df2.show()"
   ]
  },
  {
   "cell_type": "code",
   "execution_count": null,
   "id": "beed82eb",
   "metadata": {},
   "outputs": [],
   "source": [
    "train, test = df2.randomSplit([0.5, 0.5], seed = 0)\n",
    "print(train.count())\n",
    "print(test.count())"
   ]
  },
  {
   "cell_type": "code",
   "execution_count": null,
   "id": "08442f94",
   "metadata": {},
   "outputs": [],
   "source": [
    "model = LogisticRegression().fit(train)"
   ]
  },
  {
   "cell_type": "code",
   "execution_count": null,
   "id": "aa474788",
   "metadata": {},
   "outputs": [],
   "source": [
    "model"
   ]
  },
  {
   "cell_type": "code",
   "execution_count": null,
   "id": "b526a8d1",
   "metadata": {},
   "outputs": [],
   "source": [
    "# resultados entrenamiento\n",
    "train_results= model.evaluate(train).predictions\n",
    "train_results.show()"
   ]
  },
  {
   "cell_type": "code",
   "execution_count": null,
   "id": "ef7b9c82",
   "metadata": {},
   "outputs": [],
   "source": [
    "model.summary.accuracy"
   ]
  },
  {
   "cell_type": "code",
   "execution_count": null,
   "id": "f39258be",
   "metadata": {},
   "outputs": [],
   "source": [
    "model.summary.areaUnderROC"
   ]
  },
  {
   "cell_type": "code",
   "execution_count": null,
   "id": "d42698a2",
   "metadata": {},
   "outputs": [],
   "source": [
    "# Probando el modelo en test set\n",
    "results= model.evaluate(test).predictions\n",
    "results.show()"
   ]
  },
  {
   "cell_type": "code",
   "execution_count": null,
   "id": "66dc171f",
   "metadata": {},
   "outputs": [],
   "source": [
    "results.select(['label','prediction']).show()"
   ]
  },
  {
   "cell_type": "code",
   "execution_count": null,
   "id": "ca5eed52",
   "metadata": {},
   "outputs": [],
   "source": [
    "import pyspark.sql.functions as F\n",
    "from pyspark.mllib.evaluation import MulticlassMetrics\n",
    "from pyspark.sql.types import FloatType"
   ]
  },
  {
   "cell_type": "code",
   "execution_count": null,
   "id": "601a8b72",
   "metadata": {},
   "outputs": [],
   "source": [
    "# confusion matrix\n",
    "tp = results[(results.label == 1) & (results.prediction == 1)].count()\n",
    "tn = results[(results.label == 0) & (results.prediction ==0)].count()\n",
    "fp = results[(results.label == 0) & (results.prediction == 1)].count()\n",
    "fn = results[(results.label == 1) & (results.prediction ==0)].count()\n",
    "\n",
    "accuracy=float((tp+tn)/(results.count()))\n",
    "recall = float(tn)/(tp + tn)\n",
    "# accuracy\n",
    "print(\"Accuracy: \", accuracy )\n",
    "\n",
    "# recall\n",
    "print(\"Recall: \", recall )"
   ]
  },
  {
   "cell_type": "code",
   "execution_count": null,
   "id": "51a12798",
   "metadata": {},
   "outputs": [],
   "source": [
    "# Creación de columnas nuevas\n",
    "results2= results.select(['label','prediction'])\n",
    "results2= results2.toPandas()\n",
    "results2"
   ]
  },
  {
   "cell_type": "code",
   "execution_count": null,
   "id": "084685ee",
   "metadata": {},
   "outputs": [],
   "source": [
    "# apply function\n",
    "results2['correcto'] = results2.apply(lambda x: True if x['label'] ==\n",
    "                     x['prediction'] else False, axis=1)\n",
    " \n",
    "# printing the dataframe\n",
    "results2"
   ]
  },
  {
   "cell_type": "code",
   "execution_count": null,
   "id": "da9cf2f9",
   "metadata": {},
   "outputs": [],
   "source": []
  }
 ],
 "metadata": {
  "kernelspec": {
   "display_name": "Python 3 (ipykernel)",
   "language": "python",
   "name": "python3"
  },
  "language_info": {
   "codemirror_mode": {
    "name": "ipython",
    "version": 3
   },
   "file_extension": ".py",
   "mimetype": "text/x-python",
   "name": "python",
   "nbconvert_exporter": "python",
   "pygments_lexer": "ipython3",
   "version": "3.11.2"
  }
 },
 "nbformat": 4,
 "nbformat_minor": 5
}
