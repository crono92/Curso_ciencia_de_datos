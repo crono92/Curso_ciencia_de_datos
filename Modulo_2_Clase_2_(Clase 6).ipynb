{
 "cells": [
  {
   "cell_type": "code",
   "execution_count": null,
   "id": "74b6794c-325f-4aaa-b903-1784dc68e545",
   "metadata": {},
   "outputs": [],
   "source": []
  },
  {
   "cell_type": "code",
   "execution_count": null,
   "id": "78d2d896-3dfd-4577-bd48-d14b6b8b9d1c",
   "metadata": {},
   "outputs": [],
   "source": [
    "pip install pandas"
   ]
  },
  {
   "cell_type": "code",
   "execution_count": 1,
   "id": "26f222fb-04dc-4476-922e-bb6f076424d2",
   "metadata": {},
   "outputs": [],
   "source": [
    "import pandas as pd"
   ]
  },
  {
   "cell_type": "code",
   "execution_count": 2,
   "id": "ded85474-967a-491f-a357-4b6bddf3037c",
   "metadata": {},
   "outputs": [
    {
     "data": {
      "text/plain": [
       "10"
      ]
     },
     "execution_count": 2,
     "metadata": {},
     "output_type": "execute_result"
    }
   ],
   "source": [
    "s = pd.Series([1, 2, 2, 3, 3, 3, 4, 4, 4, 4])\n",
    "s.size"
   ]
  },
  {
   "cell_type": "code",
   "execution_count": 3,
   "id": "1fe0cadb-016f-4c2c-a01b-dbdc2d5e6c38",
   "metadata": {},
   "outputs": [
    {
     "data": {
      "text/plain": [
       "4"
      ]
     },
     "execution_count": 3,
     "metadata": {},
     "output_type": "execute_result"
    }
   ],
   "source": [
    "s[9]"
   ]
  },
  {
   "cell_type": "code",
   "execution_count": 4,
   "id": "3f649645-a5b3-4a8c-a9e5-c90d4a9ca185",
   "metadata": {},
   "outputs": [
    {
     "data": {
      "text/plain": [
       "4"
      ]
     },
     "execution_count": 4,
     "metadata": {},
     "output_type": "execute_result"
    }
   ],
   "source": [
    "s.iloc[-1]"
   ]
  },
  {
   "cell_type": "code",
   "execution_count": 7,
   "id": "ab16fb2e-c50d-45dd-aa15-a83a679a8eab",
   "metadata": {},
   "outputs": [
    {
     "name": "stdout",
     "output_type": "stream",
     "text": [
      "Matemáticas     6.0\n",
      "Economía        4.5\n",
      "Programación      7\n",
      "dtype: string\n"
     ]
    }
   ],
   "source": [
    "s2 = pd.Series({'Matemáticas': 6.0, 'Economía': 4.5, 'Programación': 7}, dtype='string')\n",
    "print(s2)"
   ]
  },
  {
   "cell_type": "code",
   "execution_count": 8,
   "id": "1c9b59f0-6d2b-4498-a1aa-6bc07ce625af",
   "metadata": {},
   "outputs": [
    {
     "data": {
      "text/plain": [
       "'6.0'"
      ]
     },
     "execution_count": 8,
     "metadata": {},
     "output_type": "execute_result"
    }
   ],
   "source": [
    "s2.loc[\"Matemáticas\"]"
   ]
  },
  {
   "cell_type": "code",
   "execution_count": 11,
   "id": "69a21972-03d0-4882-8dd4-71812dbf178f",
   "metadata": {},
   "outputs": [
    {
     "name": "stdout",
     "output_type": "stream",
     "text": [
      "0    1\n",
      "1    2\n",
      "2    2\n",
      "3    3\n",
      "4    3\n",
      "5    3\n",
      "6    4\n",
      "7    4\n",
      "8    4\n",
      "9    4\n",
      "dtype: int64\n"
     ]
    }
   ],
   "source": [
    "print(s)"
   ]
  },
  {
   "cell_type": "code",
   "execution_count": 12,
   "id": "ce45a7c0-e70f-431e-927e-f9043f0fe33f",
   "metadata": {},
   "outputs": [
    {
     "data": {
      "text/plain": [
       "30"
      ]
     },
     "execution_count": 12,
     "metadata": {},
     "output_type": "execute_result"
    }
   ],
   "source": [
    "s.sum()"
   ]
  },
  {
   "cell_type": "code",
   "execution_count": 13,
   "id": "a99c944c-9587-411d-9371-ffdfb156b7c5",
   "metadata": {},
   "outputs": [
    {
     "data": {
      "text/plain": [
       "0     1\n",
       "1     3\n",
       "2     5\n",
       "3     8\n",
       "4    11\n",
       "5    14\n",
       "6    18\n",
       "7    22\n",
       "8    26\n",
       "9    30\n",
       "dtype: int64"
      ]
     },
     "execution_count": 13,
     "metadata": {},
     "output_type": "execute_result"
    }
   ],
   "source": [
    "s.cumsum()"
   ]
  },
  {
   "cell_type": "code",
   "execution_count": 14,
   "id": "9a9f2275-bb60-4c7f-8374-12aba024118a",
   "metadata": {},
   "outputs": [
    {
     "data": {
      "text/plain": [
       "4    4\n",
       "3    3\n",
       "2    2\n",
       "1    1\n",
       "Name: count, dtype: int64"
      ]
     },
     "execution_count": 14,
     "metadata": {},
     "output_type": "execute_result"
    }
   ],
   "source": [
    "s.value_counts()"
   ]
  },
  {
   "cell_type": "code",
   "execution_count": 15,
   "id": "93849192-7749-48dd-a9a0-d27d10a16572",
   "metadata": {},
   "outputs": [
    {
     "data": {
      "text/plain": [
       "1"
      ]
     },
     "execution_count": 15,
     "metadata": {},
     "output_type": "execute_result"
    }
   ],
   "source": [
    "s.min()"
   ]
  },
  {
   "cell_type": "code",
   "execution_count": 16,
   "id": "f320f099-8869-4d4f-8ee3-c3cfc8447f13",
   "metadata": {},
   "outputs": [
    {
     "data": {
      "text/plain": [
       "4"
      ]
     },
     "execution_count": 16,
     "metadata": {},
     "output_type": "execute_result"
    }
   ],
   "source": [
    "s.max()"
   ]
  },
  {
   "cell_type": "code",
   "execution_count": 17,
   "id": "3bda590d-d581-407b-bfb7-54d844bdb56f",
   "metadata": {},
   "outputs": [
    {
     "data": {
      "text/plain": [
       "3.0"
      ]
     },
     "execution_count": 17,
     "metadata": {},
     "output_type": "execute_result"
    }
   ],
   "source": [
    "s.mean()"
   ]
  },
  {
   "cell_type": "code",
   "execution_count": 18,
   "id": "0e5fdc2e-5753-4ac6-be9e-cfc07b064d76",
   "metadata": {},
   "outputs": [
    {
     "data": {
      "text/plain": [
       "1.0540925533894598"
      ]
     },
     "execution_count": 18,
     "metadata": {},
     "output_type": "execute_result"
    }
   ],
   "source": [
    "s.std()"
   ]
  },
  {
   "cell_type": "code",
   "execution_count": 19,
   "id": "ada052da-5d9e-4f27-a65f-c87b9272d87a",
   "metadata": {},
   "outputs": [
    {
     "data": {
      "text/plain": [
       "count    10.000000\n",
       "mean      3.000000\n",
       "std       1.054093\n",
       "min       1.000000\n",
       "25%       2.250000\n",
       "50%       3.000000\n",
       "75%       4.000000\n",
       "max       4.000000\n",
       "dtype: float64"
      ]
     },
     "execution_count": 19,
     "metadata": {},
     "output_type": "execute_result"
    }
   ],
   "source": [
    "s.describe()"
   ]
  },
  {
   "cell_type": "code",
   "execution_count": 20,
   "id": "a4928d8c-edbf-47af-90c7-a25a96a7665a",
   "metadata": {},
   "outputs": [
    {
     "name": "stdout",
     "output_type": "stream",
     "text": [
      "    nombre  edad         grado             correo\n",
      "0    María    18      Economía    maria@gmail.com\n",
      "1     Luis    22      Medicina      luis@yahoo.es\n",
      "2   Carmen    20  Arquitectura   carmen@gmail.com\n",
      "3  Antonio    21      Economía  antonio@gmail.com\n"
     ]
    }
   ],
   "source": [
    "datos = {'nombre':['María', 'Luis', 'Carmen', 'Antonio'],\n",
    "'edad':[18, 22, 20, 21], 'grado':['Economía', 'Medicina',\n",
    "'Arquitectura', 'Economía'], 'correo':['maria@gmail.com',\n",
    "'luis@yahoo.es', 'carmen@gmail.com', 'antonio@gmail.com']}\n",
    "df = pd.DataFrame(datos)\n",
    "print(df)"
   ]
  },
  {
   "cell_type": "code",
   "execution_count": 21,
   "id": "9121ce67-f178-43c0-9011-b788ac62f904",
   "metadata": {},
   "outputs": [
    {
     "name": "stdout",
     "output_type": "stream",
     "text": [
      "   Nombre  Edad\n",
      "0   María    18\n",
      "1    Luis    22\n",
      "2  Carmen    20\n"
     ]
    }
   ],
   "source": [
    "df = pd.DataFrame([['María', 18], ['Luis', 22], ['Carmen',\n",
    "20]], columns=['Nombre', 'Edad'])\n",
    "\n",
    "print(df)"
   ]
  },
  {
   "cell_type": "code",
   "execution_count": 24,
   "id": "595443b0-6905-4f57-916a-a19e55b56f42",
   "metadata": {},
   "outputs": [
    {
     "name": "stdout",
     "output_type": "stream",
     "text": [
      "                         nombre  edad sexo  peso  altura  colesterol\n",
      "0  José Luis Martínez Izquierdo    18    H  85.0    1.79       182.0\n",
      "1                Rosa Díaz Díaz    32    M  65.0    1.73       232.0\n",
      "2         Javier García Sánchez    24    H   NaN    1.81       191.0\n",
      "3           Carmen López Pinzón    35    M  65.0    1.70       200.0\n",
      "4          Marisa López Collado    46    M  51.0    1.58       148.0\n"
     ]
    }
   ],
   "source": [
    "# Importación del fichero datos-colesteroles.csv\n",
    "df = pd.read_csv(\n",
    "    \n",
    "'https://raw.githubusercontent.com/asalber/manual-python/master/datos/colesteroles.csv', sep=';', decimal=',')\n",
    "\n",
    "print(df.head())"
   ]
  },
  {
   "cell_type": "code",
   "execution_count": 25,
   "id": "8af59946-9b6d-41db-97ef-73cca126438b",
   "metadata": {},
   "outputs": [
    {
     "name": "stdout",
     "output_type": "stream",
     "text": [
      "<class 'pandas.core.frame.DataFrame'>\n",
      "RangeIndex: 14 entries, 0 to 13\n",
      "Data columns (total 6 columns):\n",
      " #   Column      Non-Null Count  Dtype  \n",
      "---  ------      --------------  -----  \n",
      " 0   nombre      14 non-null     object \n",
      " 1   edad        14 non-null     int64  \n",
      " 2   sexo        14 non-null     object \n",
      " 3   peso        13 non-null     float64\n",
      " 4   altura      14 non-null     float64\n",
      " 5   colesterol  13 non-null     float64\n",
      "dtypes: float64(3), int64(1), object(2)\n",
      "memory usage: 804.0+ bytes\n"
     ]
    }
   ],
   "source": [
    "df.info()"
   ]
  },
  {
   "cell_type": "code",
   "execution_count": 26,
   "id": "66e9a7c6-dcf1-4930-a2e3-afc5134093ed",
   "metadata": {},
   "outputs": [
    {
     "name": "stdout",
     "output_type": "stream",
     "text": [
      "                             nombre  edad sexo   peso  altura  colesterol\n",
      "0      José Luis Martínez Izquierdo    18    H   85.0    1.79       182.0\n",
      "1                    Rosa Díaz Díaz    32    M   65.0    1.73       232.0\n",
      "2             Javier García Sánchez    24    H    NaN    1.81       191.0\n",
      "3               Carmen López Pinzón    35    M   65.0    1.70       200.0\n",
      "4              Marisa López Collado    46    M   51.0    1.58       148.0\n",
      "5                 Antonio Ruiz Cruz    68    H   66.0    1.74       249.0\n",
      "6           Antonio Fernández Ocaña    51    H   62.0    1.72       276.0\n",
      "7             Pilar Martín González    22    M   60.0    1.66         NaN\n",
      "8              Pedro Gálvez Tenorio    35    H   90.0    1.94       241.0\n",
      "9           Santiago Reillo Manzano    46    H   75.0    1.85       280.0\n",
      "10            Macarena Álvarez Luna    53    M   55.0    1.62       262.0\n",
      "11       José María de la Guía Sanz    58    H   78.0    1.87       198.0\n",
      "12  Miguel Angel Cuadrado Gutiérrez    27    H  109.0    1.98       210.0\n",
      "13            Carolina Rubio Moreno    20    M   61.0    1.77       194.0\n"
     ]
    }
   ],
   "source": [
    "print(df)"
   ]
  },
  {
   "cell_type": "code",
   "execution_count": 27,
   "id": "dc105485-6275-466f-be20-7f95d1cd42ce",
   "metadata": {},
   "outputs": [
    {
     "data": {
      "text/plain": [
       "84"
      ]
     },
     "execution_count": 27,
     "metadata": {},
     "output_type": "execute_result"
    }
   ],
   "source": [
    "df.size"
   ]
  },
  {
   "cell_type": "code",
   "execution_count": 28,
   "id": "0e6c3460-2d72-40b7-a0e6-8b2b19011235",
   "metadata": {},
   "outputs": [
    {
     "data": {
      "text/plain": [
       "(14, 6)"
      ]
     },
     "execution_count": 28,
     "metadata": {},
     "output_type": "execute_result"
    }
   ],
   "source": [
    "df.shape"
   ]
  },
  {
   "cell_type": "code",
   "execution_count": 29,
   "id": "7fc6f0c9-0a5c-4991-9818-02a1022f5b02",
   "metadata": {},
   "outputs": [
    {
     "data": {
      "text/html": [
       "<div>\n",
       "<style scoped>\n",
       "    .dataframe tbody tr th:only-of-type {\n",
       "        vertical-align: middle;\n",
       "    }\n",
       "\n",
       "    .dataframe tbody tr th {\n",
       "        vertical-align: top;\n",
       "    }\n",
       "\n",
       "    .dataframe thead th {\n",
       "        text-align: right;\n",
       "    }\n",
       "</style>\n",
       "<table border=\"1\" class=\"dataframe\">\n",
       "  <thead>\n",
       "    <tr style=\"text-align: right;\">\n",
       "      <th></th>\n",
       "      <th>nombre</th>\n",
       "      <th>edad</th>\n",
       "    </tr>\n",
       "  </thead>\n",
       "  <tbody>\n",
       "    <tr>\n",
       "      <th>11</th>\n",
       "      <td>José María de la Guía Sanz</td>\n",
       "      <td>58</td>\n",
       "    </tr>\n",
       "    <tr>\n",
       "      <th>12</th>\n",
       "      <td>Miguel Angel Cuadrado Gutiérrez</td>\n",
       "      <td>27</td>\n",
       "    </tr>\n",
       "    <tr>\n",
       "      <th>13</th>\n",
       "      <td>Carolina Rubio Moreno</td>\n",
       "      <td>20</td>\n",
       "    </tr>\n",
       "  </tbody>\n",
       "</table>\n",
       "</div>"
      ],
      "text/plain": [
       "                             nombre  edad\n",
       "11       José María de la Guía Sanz    58\n",
       "12  Miguel Angel Cuadrado Gutiérrez    27\n",
       "13            Carolina Rubio Moreno    20"
      ]
     },
     "execution_count": 29,
     "metadata": {},
     "output_type": "execute_result"
    }
   ],
   "source": [
    "df.reindex(index= [11,12,13], columns= [\"nombre\",\"edad\"])"
   ]
  },
  {
   "cell_type": "code",
   "execution_count": 30,
   "id": "238c4303-903d-448a-bce1-8134bd5e1655",
   "metadata": {},
   "outputs": [
    {
     "name": "stdout",
     "output_type": "stream",
     "text": [
      "                             nombre  edad sexo   peso  altura  colesterol\n",
      "0      José Luis Martínez Izquierdo    18    H   85.0    1.79       182.0\n",
      "1                    Rosa Díaz Díaz    32    M   65.0    1.73       232.0\n",
      "2             Javier García Sánchez    24    H    NaN    1.81       191.0\n",
      "3               Carmen López Pinzón    35    M   65.0    1.70       200.0\n",
      "4              Marisa López Collado    46    M   51.0    1.58       148.0\n",
      "5                 Antonio Ruiz Cruz    68    H   66.0    1.74       249.0\n",
      "6           Antonio Fernández Ocaña    51    H   62.0    1.72       276.0\n",
      "7             Pilar Martín González    22    M   60.0    1.66         NaN\n",
      "8              Pedro Gálvez Tenorio    35    H   90.0    1.94       241.0\n",
      "9           Santiago Reillo Manzano    46    H   75.0    1.85       280.0\n",
      "10            Macarena Álvarez Luna    53    M   55.0    1.62       262.0\n",
      "11       José María de la Guía Sanz    58    H   78.0    1.87       198.0\n",
      "12  Miguel Angel Cuadrado Gutiérrez    27    H  109.0    1.98       210.0\n",
      "13            Carolina Rubio Moreno    20    M   61.0    1.77       194.0\n"
     ]
    }
   ],
   "source": [
    "print(df)"
   ]
  },
  {
   "cell_type": "code",
   "execution_count": 37,
   "id": "a6e29e6a-bf30-4515-ab92-68da9635018d",
   "metadata": {},
   "outputs": [
    {
     "name": "stdout",
     "output_type": "stream",
     "text": [
      "  sexo  peso\n",
      "5    H  66.0\n",
      "6    H  62.0\n",
      "7    M  60.0\n",
      "8    H  90.0\n",
      "9    H  75.0\n"
     ]
    }
   ],
   "source": [
    "print (df.iloc[5:10,2:4])"
   ]
  },
  {
   "cell_type": "code",
   "execution_count": 43,
   "id": "e5a0e970-bc9c-4813-ae1c-53a8e4bb3938",
   "metadata": {},
   "outputs": [],
   "source": [
    "import numpy as np"
   ]
  },
  {
   "cell_type": "code",
   "execution_count": 40,
   "id": "1ebe0893-d351-4bc5-9293-e8f811fcf033",
   "metadata": {},
   "outputs": [
    {
     "name": "stdout",
     "output_type": "stream",
     "text": [
      "                             nombre  edad sexo   peso  altura  colesterol\n",
      "0      José Luis Martínez Izquierdo    18    H   85.0    1.79       182.0\n",
      "1                    Rosa Díaz Díaz    32    M   65.0    1.73       232.0\n",
      "2             Javier García Sánchez    24    H    NaN    1.81       191.0\n",
      "3               Carmen López Pinzón    35    M   65.0    1.70       200.0\n",
      "4              Marisa López Collado    46    M   51.0    1.58       148.0\n",
      "5                 Antonio Ruiz Cruz    68    H   66.0    1.74       249.0\n",
      "6           Antonio Fernández Ocaña    51    H   62.0    1.72       276.0\n",
      "7             Pilar Martín González    22    M   60.0    1.66         NaN\n",
      "8              Pedro Gálvez Tenorio    35    H   90.0    1.94       241.0\n",
      "9           Santiago Reillo Manzano    46    H   75.0    1.85       280.0\n",
      "10            Macarena Álvarez Luna    53    M   55.0    1.62       262.0\n",
      "11       José María de la Guía Sanz    58    H   78.0    1.87       198.0\n",
      "12  Miguel Angel Cuadrado Gutiérrez    27    H  109.0    1.98       210.0\n",
      "13            Carolina Rubio Moreno    20    M   61.0    1.77       194.0\n"
     ]
    }
   ],
   "source": [
    "print(df)"
   ]
  },
  {
   "cell_type": "code",
   "execution_count": 41,
   "id": "0c4e59e5-fc95-46a5-95ec-d5cb4d547e40",
   "metadata": {},
   "outputs": [
    {
     "data": {
      "text/html": [
       "<div>\n",
       "<style scoped>\n",
       "    .dataframe tbody tr th:only-of-type {\n",
       "        vertical-align: middle;\n",
       "    }\n",
       "\n",
       "    .dataframe tbody tr th {\n",
       "        vertical-align: top;\n",
       "    }\n",
       "\n",
       "    .dataframe thead th {\n",
       "        text-align: right;\n",
       "    }\n",
       "</style>\n",
       "<table border=\"1\" class=\"dataframe\">\n",
       "  <thead>\n",
       "    <tr style=\"text-align: right;\">\n",
       "      <th></th>\n",
       "      <th>edad</th>\n",
       "      <th>peso</th>\n",
       "      <th>altura</th>\n",
       "      <th>colesterol</th>\n",
       "    </tr>\n",
       "  </thead>\n",
       "  <tbody>\n",
       "    <tr>\n",
       "      <th>count</th>\n",
       "      <td>14.000000</td>\n",
       "      <td>13.000000</td>\n",
       "      <td>14.000000</td>\n",
       "      <td>13.000000</td>\n",
       "    </tr>\n",
       "    <tr>\n",
       "      <th>mean</th>\n",
       "      <td>38.214286</td>\n",
       "      <td>70.923077</td>\n",
       "      <td>1.768571</td>\n",
       "      <td>220.230769</td>\n",
       "    </tr>\n",
       "    <tr>\n",
       "      <th>std</th>\n",
       "      <td>15.621379</td>\n",
       "      <td>16.126901</td>\n",
       "      <td>0.115016</td>\n",
       "      <td>39.847948</td>\n",
       "    </tr>\n",
       "    <tr>\n",
       "      <th>min</th>\n",
       "      <td>18.000000</td>\n",
       "      <td>51.000000</td>\n",
       "      <td>1.580000</td>\n",
       "      <td>148.000000</td>\n",
       "    </tr>\n",
       "    <tr>\n",
       "      <th>25%</th>\n",
       "      <td>24.750000</td>\n",
       "      <td>61.000000</td>\n",
       "      <td>1.705000</td>\n",
       "      <td>194.000000</td>\n",
       "    </tr>\n",
       "    <tr>\n",
       "      <th>50%</th>\n",
       "      <td>35.000000</td>\n",
       "      <td>65.000000</td>\n",
       "      <td>1.755000</td>\n",
       "      <td>210.000000</td>\n",
       "    </tr>\n",
       "    <tr>\n",
       "      <th>75%</th>\n",
       "      <td>49.750000</td>\n",
       "      <td>78.000000</td>\n",
       "      <td>1.840000</td>\n",
       "      <td>249.000000</td>\n",
       "    </tr>\n",
       "    <tr>\n",
       "      <th>max</th>\n",
       "      <td>68.000000</td>\n",
       "      <td>109.000000</td>\n",
       "      <td>1.980000</td>\n",
       "      <td>280.000000</td>\n",
       "    </tr>\n",
       "  </tbody>\n",
       "</table>\n",
       "</div>"
      ],
      "text/plain": [
       "            edad        peso     altura  colesterol\n",
       "count  14.000000   13.000000  14.000000   13.000000\n",
       "mean   38.214286   70.923077   1.768571  220.230769\n",
       "std    15.621379   16.126901   0.115016   39.847948\n",
       "min    18.000000   51.000000   1.580000  148.000000\n",
       "25%    24.750000   61.000000   1.705000  194.000000\n",
       "50%    35.000000   65.000000   1.755000  210.000000\n",
       "75%    49.750000   78.000000   1.840000  249.000000\n",
       "max    68.000000  109.000000   1.980000  280.000000"
      ]
     },
     "execution_count": 41,
     "metadata": {},
     "output_type": "execute_result"
    }
   ],
   "source": [
    "df.describe()"
   ]
  },
  {
   "cell_type": "code",
   "execution_count": 48,
   "id": "fdbc54bd-9cf8-4165-ab80-381d5de37e53",
   "metadata": {},
   "outputs": [
    {
     "data": {
      "text/html": [
       "<div>\n",
       "<style scoped>\n",
       "    .dataframe tbody tr th:only-of-type {\n",
       "        vertical-align: middle;\n",
       "    }\n",
       "\n",
       "    .dataframe tbody tr th {\n",
       "        vertical-align: top;\n",
       "    }\n",
       "\n",
       "    .dataframe thead th {\n",
       "        text-align: right;\n",
       "    }\n",
       "</style>\n",
       "<table border=\"1\" class=\"dataframe\">\n",
       "  <thead>\n",
       "    <tr style=\"text-align: right;\">\n",
       "      <th></th>\n",
       "      <th>nombre</th>\n",
       "      <th>edad</th>\n",
       "      <th>sexo</th>\n",
       "      <th>peso</th>\n",
       "      <th>altura</th>\n",
       "      <th>colesterol</th>\n",
       "      <th>examinar</th>\n",
       "    </tr>\n",
       "  </thead>\n",
       "  <tbody>\n",
       "    <tr>\n",
       "      <th>0</th>\n",
       "      <td>José Luis Martínez Izquierdo</td>\n",
       "      <td>18</td>\n",
       "      <td>H</td>\n",
       "      <td>85.0</td>\n",
       "      <td>1.79</td>\n",
       "      <td>182.0</td>\n",
       "      <td>No examinar</td>\n",
       "    </tr>\n",
       "    <tr>\n",
       "      <th>1</th>\n",
       "      <td>Rosa Díaz Díaz</td>\n",
       "      <td>32</td>\n",
       "      <td>M</td>\n",
       "      <td>65.0</td>\n",
       "      <td>1.73</td>\n",
       "      <td>232.0</td>\n",
       "      <td>Examinar</td>\n",
       "    </tr>\n",
       "    <tr>\n",
       "      <th>2</th>\n",
       "      <td>Javier García Sánchez</td>\n",
       "      <td>24</td>\n",
       "      <td>H</td>\n",
       "      <td>NaN</td>\n",
       "      <td>1.81</td>\n",
       "      <td>191.0</td>\n",
       "      <td>No examinar</td>\n",
       "    </tr>\n",
       "    <tr>\n",
       "      <th>3</th>\n",
       "      <td>Carmen López Pinzón</td>\n",
       "      <td>35</td>\n",
       "      <td>M</td>\n",
       "      <td>65.0</td>\n",
       "      <td>1.70</td>\n",
       "      <td>200.0</td>\n",
       "      <td>No examinar</td>\n",
       "    </tr>\n",
       "    <tr>\n",
       "      <th>4</th>\n",
       "      <td>Marisa López Collado</td>\n",
       "      <td>46</td>\n",
       "      <td>M</td>\n",
       "      <td>51.0</td>\n",
       "      <td>1.58</td>\n",
       "      <td>148.0</td>\n",
       "      <td>No examinar</td>\n",
       "    </tr>\n",
       "    <tr>\n",
       "      <th>5</th>\n",
       "      <td>Antonio Ruiz Cruz</td>\n",
       "      <td>68</td>\n",
       "      <td>H</td>\n",
       "      <td>66.0</td>\n",
       "      <td>1.74</td>\n",
       "      <td>249.0</td>\n",
       "      <td>Examinar</td>\n",
       "    </tr>\n",
       "    <tr>\n",
       "      <th>6</th>\n",
       "      <td>Antonio Fernández Ocaña</td>\n",
       "      <td>51</td>\n",
       "      <td>H</td>\n",
       "      <td>62.0</td>\n",
       "      <td>1.72</td>\n",
       "      <td>276.0</td>\n",
       "      <td>Examinar</td>\n",
       "    </tr>\n",
       "    <tr>\n",
       "      <th>7</th>\n",
       "      <td>Pilar Martín González</td>\n",
       "      <td>22</td>\n",
       "      <td>M</td>\n",
       "      <td>60.0</td>\n",
       "      <td>1.66</td>\n",
       "      <td>NaN</td>\n",
       "      <td>No examinar</td>\n",
       "    </tr>\n",
       "    <tr>\n",
       "      <th>8</th>\n",
       "      <td>Pedro Gálvez Tenorio</td>\n",
       "      <td>35</td>\n",
       "      <td>H</td>\n",
       "      <td>90.0</td>\n",
       "      <td>1.94</td>\n",
       "      <td>241.0</td>\n",
       "      <td>Examinar</td>\n",
       "    </tr>\n",
       "    <tr>\n",
       "      <th>9</th>\n",
       "      <td>Santiago Reillo Manzano</td>\n",
       "      <td>46</td>\n",
       "      <td>H</td>\n",
       "      <td>75.0</td>\n",
       "      <td>1.85</td>\n",
       "      <td>280.0</td>\n",
       "      <td>Examinar</td>\n",
       "    </tr>\n",
       "    <tr>\n",
       "      <th>10</th>\n",
       "      <td>Macarena Álvarez Luna</td>\n",
       "      <td>53</td>\n",
       "      <td>M</td>\n",
       "      <td>55.0</td>\n",
       "      <td>1.62</td>\n",
       "      <td>262.0</td>\n",
       "      <td>Examinar</td>\n",
       "    </tr>\n",
       "    <tr>\n",
       "      <th>11</th>\n",
       "      <td>José María de la Guía Sanz</td>\n",
       "      <td>58</td>\n",
       "      <td>H</td>\n",
       "      <td>78.0</td>\n",
       "      <td>1.87</td>\n",
       "      <td>198.0</td>\n",
       "      <td>No examinar</td>\n",
       "    </tr>\n",
       "    <tr>\n",
       "      <th>12</th>\n",
       "      <td>Miguel Angel Cuadrado Gutiérrez</td>\n",
       "      <td>27</td>\n",
       "      <td>H</td>\n",
       "      <td>109.0</td>\n",
       "      <td>1.98</td>\n",
       "      <td>210.0</td>\n",
       "      <td>Examinar</td>\n",
       "    </tr>\n",
       "    <tr>\n",
       "      <th>13</th>\n",
       "      <td>Carolina Rubio Moreno</td>\n",
       "      <td>20</td>\n",
       "      <td>M</td>\n",
       "      <td>61.0</td>\n",
       "      <td>1.77</td>\n",
       "      <td>194.0</td>\n",
       "      <td>No examinar</td>\n",
       "    </tr>\n",
       "  </tbody>\n",
       "</table>\n",
       "</div>"
      ],
      "text/plain": [
       "                             nombre  edad sexo   peso  altura  colesterol   \n",
       "0      José Luis Martínez Izquierdo    18    H   85.0    1.79       182.0  \\\n",
       "1                    Rosa Díaz Díaz    32    M   65.0    1.73       232.0   \n",
       "2             Javier García Sánchez    24    H    NaN    1.81       191.0   \n",
       "3               Carmen López Pinzón    35    M   65.0    1.70       200.0   \n",
       "4              Marisa López Collado    46    M   51.0    1.58       148.0   \n",
       "5                 Antonio Ruiz Cruz    68    H   66.0    1.74       249.0   \n",
       "6           Antonio Fernández Ocaña    51    H   62.0    1.72       276.0   \n",
       "7             Pilar Martín González    22    M   60.0    1.66         NaN   \n",
       "8              Pedro Gálvez Tenorio    35    H   90.0    1.94       241.0   \n",
       "9           Santiago Reillo Manzano    46    H   75.0    1.85       280.0   \n",
       "10            Macarena Álvarez Luna    53    M   55.0    1.62       262.0   \n",
       "11       José María de la Guía Sanz    58    H   78.0    1.87       198.0   \n",
       "12  Miguel Angel Cuadrado Gutiérrez    27    H  109.0    1.98       210.0   \n",
       "13            Carolina Rubio Moreno    20    M   61.0    1.77       194.0   \n",
       "\n",
       "       examinar  \n",
       "0   No examinar  \n",
       "1      Examinar  \n",
       "2   No examinar  \n",
       "3   No examinar  \n",
       "4   No examinar  \n",
       "5      Examinar  \n",
       "6      Examinar  \n",
       "7   No examinar  \n",
       "8      Examinar  \n",
       "9      Examinar  \n",
       "10     Examinar  \n",
       "11  No examinar  \n",
       "12     Examinar  \n",
       "13  No examinar  "
      ]
     },
     "execution_count": 48,
     "metadata": {},
     "output_type": "execute_result"
    }
   ],
   "source": [
    "df['examinar'] = np.where(df['colesterol'] > 200 , 'Examinar', 'No examinar')\n",
    "df"
   ]
  },
  {
   "cell_type": "code",
   "execution_count": 45,
   "id": "18cac128-a872-48ce-81ff-910fbc417055",
   "metadata": {},
   "outputs": [
    {
     "name": "stdout",
     "output_type": "stream",
     "text": [
      "{('H', 'Examinar'): [5, 6, 8, 9, 12], ('H', 'No examinar'): [0, 2, 11], ('M', 'Examinar'): [1, 10], ('M', 'No examinar'): [3, 4, 7, 13]}\n"
     ]
    }
   ],
   "source": [
    "print(df.groupby([\"sexo\",\"examinar\"]).groups)"
   ]
  },
  {
   "cell_type": "code",
   "execution_count": null,
   "id": "0d36650a",
   "metadata": {},
   "outputs": [],
   "source": []
  }
 ],
 "metadata": {
  "kernelspec": {
   "display_name": "Python 3 (ipykernel)",
   "language": "python",
   "name": "python3"
  },
  "language_info": {
   "codemirror_mode": {
    "name": "ipython",
    "version": 3
   },
   "file_extension": ".py",
   "mimetype": "text/x-python",
   "name": "python",
   "nbconvert_exporter": "python",
   "pygments_lexer": "ipython3",
   "version": "3.11.2"
  }
 },
 "nbformat": 4,
 "nbformat_minor": 5
}
