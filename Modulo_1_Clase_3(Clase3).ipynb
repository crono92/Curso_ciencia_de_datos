{
 "cells": [
  {
   "cell_type": "markdown",
   "id": "3769e866",
   "metadata": {},
   "source": [
    "### Funciones Lambda"
   ]
  },
  {
   "cell_type": "code",
   "execution_count": null,
   "id": "1ebb6fc3",
   "metadata": {},
   "outputs": [],
   "source": [
    "# Funcion anonima que carece de nombre\n",
    "\n",
    "# Aquí definimos una función normal de suma\n",
    "\n",
    "def suma (x,y):\n",
    "    return (x + y)"
   ]
  },
  {
   "cell_type": "code",
   "execution_count": 1,
   "id": "99a9033f",
   "metadata": {},
   "outputs": [
    {
     "name": "stdout",
     "output_type": "stream",
     "text": [
      "5\n"
     ]
    }
   ],
   "source": [
    "# Aqui tenemos una función lambda que también suma\n",
    "\n",
    "lambda x,y: x + y\n",
    "\n",
    "# Para usarla se guarda en una variable\n",
    "\n",
    "suma_dos = lambda x,y: x + y\n",
    "print (suma_dos (3,2))"
   ]
  },
  {
   "cell_type": "code",
   "execution_count": 2,
   "id": "c23ef20f",
   "metadata": {},
   "outputs": [
    {
     "name": "stdout",
     "output_type": "stream",
     "text": [
      "[2, 4, 6, 8, 10, 12, 14, 16]\n"
     ]
    }
   ],
   "source": [
    "mi_lista = [1, 2, 3, 4, 5, 6, 7, 8]\n",
    "lista_nueva = list(map(lambda x: x * 2, mi_lista))\n",
    "print(lista_nueva) "
   ]
  },
  {
   "cell_type": "code",
   "execution_count": null,
   "id": "ccb5cc8f",
   "metadata": {},
   "outputs": [],
   "source": [
    "help (map)"
   ]
  },
  {
   "cell_type": "code",
   "execution_count": null,
   "id": "f5d5a77a",
   "metadata": {},
   "outputs": [],
   "source": [
    "from functools import reduce \n",
    "\n",
    " \n",
    "\n",
    "def digitnum(lista): \n",
    "\n",
    "    return reduce(lambda x,y: x*10 + y,lista)"
   ]
  },
  {
   "cell_type": "code",
   "execution_count": null,
   "id": "d03e7f25",
   "metadata": {},
   "outputs": [],
   "source": [
    "help (reduce)"
   ]
  },
  {
   "cell_type": "code",
   "execution_count": null,
   "id": "80d25dce",
   "metadata": {},
   "outputs": [],
   "source": [
    "string.replace(string_viejo, string_nuevo)"
   ]
  },
  {
   "cell_type": "code",
   "execution_count": null,
   "id": "c961eb0e",
   "metadata": {},
   "outputs": [],
   "source": [
    "s1 = \"Pedro, Juan, Diego\"\n",
    "s1.split(\"e\")"
   ]
  },
  {
   "cell_type": "code",
   "execution_count": 3,
   "id": "3819198d",
   "metadata": {},
   "outputs": [],
   "source": [
    "import datetime"
   ]
  },
  {
   "cell_type": "code",
   "execution_count": 18,
   "id": "42ffe194",
   "metadata": {},
   "outputs": [
    {
     "name": "stdout",
     "output_type": "stream",
     "text": [
      "03:05:15.000012\n"
     ]
    }
   ],
   "source": [
    "t = datetime.time (3, 5, 15, 12)\n",
    "print (t)"
   ]
  },
  {
   "cell_type": "code",
   "execution_count": 5,
   "id": "7b8e6d41",
   "metadata": {},
   "outputs": [
    {
     "name": "stdout",
     "output_type": "stream",
     "text": [
      "hora 3\n"
     ]
    }
   ],
   "source": [
    "print (\"hora\", t.hour)"
   ]
  },
  {
   "cell_type": "code",
   "execution_count": 6,
   "id": "ccdd288f",
   "metadata": {},
   "outputs": [
    {
     "name": "stdout",
     "output_type": "stream",
     "text": [
      "minuto 5\n"
     ]
    }
   ],
   "source": [
    "print (\"minuto\", t.minute)"
   ]
  },
  {
   "cell_type": "code",
   "execution_count": 35,
   "id": "672783a2",
   "metadata": {},
   "outputs": [
    {
     "name": "stdout",
     "output_type": "stream",
     "text": [
      "2024-03-18\n"
     ]
    }
   ],
   "source": [
    "hoy = datetime.date.today ()\n",
    "print (hoy)"
   ]
  },
  {
   "cell_type": "code",
   "execution_count": 33,
   "id": "ea54a400",
   "metadata": {},
   "outputs": [
    {
     "data": {
      "text/plain": [
       "4"
      ]
     },
     "execution_count": 33,
     "metadata": {},
     "output_type": "execute_result"
    }
   ],
   "source": [
    "t1 = (3, 5, 7, 8)\n",
    "len (t1)"
   ]
  },
  {
   "cell_type": "code",
   "execution_count": 15,
   "id": "861e7439",
   "metadata": {},
   "outputs": [
    {
     "data": {
      "text/plain": [
       "7"
      ]
     },
     "execution_count": 15,
     "metadata": {},
     "output_type": "execute_result"
    }
   ],
   "source": [
    "t1[-2]"
   ]
  },
  {
   "cell_type": "code",
   "execution_count": 36,
   "id": "f1480cff",
   "metadata": {},
   "outputs": [
    {
     "name": "stdout",
     "output_type": "stream",
     "text": [
      "{'a': 'hola', 'b': 'mundo'}\n"
     ]
    }
   ],
   "source": [
    "d1 = {\"a\":\"hola\", \"b\":\"mundo\"}\n",
    "print (d1)"
   ]
  },
  {
   "cell_type": "code",
   "execution_count": 42,
   "id": "8adce140",
   "metadata": {},
   "outputs": [
    {
     "name": "stdout",
     "output_type": "stream",
     "text": [
      "{'a': 'hola', 'b': 'mundo'}\n"
     ]
    }
   ],
   "source": [
    "d2 = dict(d1)\n",
    "print (d2)"
   ]
  },
  {
   "cell_type": "code",
   "execution_count": 38,
   "id": "c9804387",
   "metadata": {},
   "outputs": [
    {
     "data": {
      "text/plain": [
       "dict_keys(['a', 'b'])"
      ]
     },
     "execution_count": 38,
     "metadata": {},
     "output_type": "execute_result"
    }
   ],
   "source": [
    "d2.keys()"
   ]
  },
  {
   "cell_type": "code",
   "execution_count": 39,
   "id": "35b5ace8",
   "metadata": {},
   "outputs": [
    {
     "data": {
      "text/plain": [
       "dict_values(['hola', 'mundo'])"
      ]
     },
     "execution_count": 39,
     "metadata": {},
     "output_type": "execute_result"
    }
   ],
   "source": [
    "d2.values()"
   ]
  },
  {
   "cell_type": "code",
   "execution_count": 40,
   "id": "a793e5e9",
   "metadata": {},
   "outputs": [
    {
     "name": "stdout",
     "output_type": "stream",
     "text": [
      "{}\n"
     ]
    }
   ],
   "source": [
    "d2.clear()\n",
    "print (d2)"
   ]
  },
  {
   "cell_type": "code",
   "execution_count": 43,
   "id": "4529c7df",
   "metadata": {},
   "outputs": [
    {
     "name": "stdout",
     "output_type": "stream",
     "text": [
      "{'a': 'hola', 'b': 'mundo'}\n"
     ]
    }
   ],
   "source": [
    "d3 = d2.copy()\n",
    "print (d3)"
   ]
  },
  {
   "cell_type": "code",
   "execution_count": 45,
   "id": "09c4f743",
   "metadata": {},
   "outputs": [
    {
     "data": {
      "text/plain": [
       "dict_items([('a', 'hola'), ('b', 'mundo')])"
      ]
     },
     "execution_count": 45,
     "metadata": {},
     "output_type": "execute_result"
    }
   ],
   "source": [
    "d3.items()"
   ]
  },
  {
   "cell_type": "code",
   "execution_count": null,
   "id": "18e5bb41",
   "metadata": {},
   "outputs": [],
   "source": []
  }
 ],
 "metadata": {
  "kernelspec": {
   "display_name": "Python 3 (ipykernel)",
   "language": "python",
   "name": "python3"
  },
  "language_info": {
   "codemirror_mode": {
    "name": "ipython",
    "version": 3
   },
   "file_extension": ".py",
   "mimetype": "text/x-python",
   "name": "python",
   "nbconvert_exporter": "python",
   "pygments_lexer": "ipython3",
   "version": "3.11.2"
  }
 },
 "nbformat": 4,
 "nbformat_minor": 5
}
