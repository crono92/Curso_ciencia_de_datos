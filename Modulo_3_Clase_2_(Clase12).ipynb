{
 "cells": [
  {
   "cell_type": "code",
   "execution_count": null,
   "id": "4b0b7dcc-c659-48c3-aaa0-b4472e2addf1",
   "metadata": {},
   "outputs": [],
   "source": [
    "!pip install matplotlib"
   ]
  },
  {
   "cell_type": "code",
   "execution_count": null,
   "id": "e1b57914-e350-4589-906c-bf8b33ae690c",
   "metadata": {},
   "outputs": [],
   "source": [
    "!pip install scikit-learn"
   ]
  },
  {
   "cell_type": "code",
   "execution_count": 2,
   "id": "0546f9e4-29a3-4ca8-b667-7dae24d5a596",
   "metadata": {},
   "outputs": [],
   "source": [
    "import numpy as np #librería numérica\n",
    "import matplotlib.pyplot as plt #para crear gráficos con matplotlib\n",
    "from sklearn.linear_model import LinearRegression #Regresión lineal con scikit-learn\n",
    "import pandas as pd"
   ]
  },
  {
   "cell_type": "markdown",
   "id": "0a26df9a",
   "metadata": {},
   "source": [
    "### Coeficientes de Correlación"
   ]
  },
  {
   "cell_type": "code",
   "execution_count": 3,
   "id": "88450fbc",
   "metadata": {},
   "outputs": [
    {
     "data": {
      "text/html": [
       "<div>\n",
       "<style scoped>\n",
       "    .dataframe tbody tr th:only-of-type {\n",
       "        vertical-align: middle;\n",
       "    }\n",
       "\n",
       "    .dataframe tbody tr th {\n",
       "        vertical-align: top;\n",
       "    }\n",
       "\n",
       "    .dataframe thead th {\n",
       "        text-align: right;\n",
       "    }\n",
       "</style>\n",
       "<table border=\"1\" class=\"dataframe\">\n",
       "  <thead>\n",
       "    <tr style=\"text-align: right;\">\n",
       "      <th></th>\n",
       "      <th>Calificaciones</th>\n",
       "      <th>Tiempo de Estudio (horas)</th>\n",
       "    </tr>\n",
       "  </thead>\n",
       "  <tbody>\n",
       "    <tr>\n",
       "      <th>0</th>\n",
       "      <td>90</td>\n",
       "      <td>10</td>\n",
       "    </tr>\n",
       "    <tr>\n",
       "      <th>1</th>\n",
       "      <td>85</td>\n",
       "      <td>9</td>\n",
       "    </tr>\n",
       "    <tr>\n",
       "      <th>2</th>\n",
       "      <td>60</td>\n",
       "      <td>5</td>\n",
       "    </tr>\n",
       "    <tr>\n",
       "      <th>3</th>\n",
       "      <td>70</td>\n",
       "      <td>3</td>\n",
       "    </tr>\n",
       "    <tr>\n",
       "      <th>4</th>\n",
       "      <td>50</td>\n",
       "      <td>2</td>\n",
       "    </tr>\n",
       "  </tbody>\n",
       "</table>\n",
       "</div>"
      ],
      "text/plain": [
       "   Calificaciones  Tiempo de Estudio (horas)\n",
       "0              90                         10\n",
       "1              85                          9\n",
       "2              60                          5\n",
       "3              70                          3\n",
       "4              50                          2"
      ]
     },
     "execution_count": 3,
     "metadata": {},
     "output_type": "execute_result"
    }
   ],
   "source": [
    "data = {\n",
    "        'Calificaciones': [90, 85, 60, 70, 50],\n",
    "        'Tiempo de Estudio (horas)': [10, 9, 5, 3, 2]\n",
    "}\n",
    "\n",
    "df = pd.DataFrame(data)\n",
    "df"
   ]
  },
  {
   "cell_type": "code",
   "execution_count": 4,
   "id": "862a9b09",
   "metadata": {},
   "outputs": [
    {
     "name": "stdout",
     "output_type": "stream",
     "text": [
      "Coeficiente de Pearson (r): 0.9055509357224758\n"
     ]
    }
   ],
   "source": [
    "correlacion_pearson = df['Calificaciones'].corr(df['Tiempo de Estudio (horas)'])\n",
    "print(f'Coeficiente de Pearson (r): {correlacion_pearson}')"
   ]
  },
  {
   "cell_type": "code",
   "execution_count": 5,
   "id": "52a75bbe",
   "metadata": {},
   "outputs": [
    {
     "name": "stdout",
     "output_type": "stream",
     "text": [
      "Coeficiente de Spearman (p): 0.8999999999999998\n"
     ]
    }
   ],
   "source": [
    "correlacion_spearman = df['Calificaciones'].corr(df['Tiempo de Estudio (horas)'], method= 'spearman')\n",
    "print(f'Coeficiente de Spearman (p): {correlacion_spearman}')"
   ]
  },
  {
   "cell_type": "markdown",
   "id": "b9cd3a61",
   "metadata": {},
   "source": [
    "### Regresión Lineal"
   ]
  },
  {
   "cell_type": "code",
   "execution_count": 9,
   "id": "594d626d",
   "metadata": {},
   "outputs": [],
   "source": [
    "import statsmodels.api as sm"
   ]
  },
  {
   "cell_type": "code",
   "execution_count": 10,
   "id": "bca2f363",
   "metadata": {},
   "outputs": [
    {
     "name": "stdout",
     "output_type": "stream",
     "text": [
      "                            OLS Regression Results                            \n",
      "==============================================================================\n",
      "Dep. Variable:            Precio_Casa   R-squared:                       0.936\n",
      "Model:                            OLS   Adj. R-squared:                  0.840\n",
      "Method:                 Least Squares   F-statistic:                     9.755\n",
      "Date:                Tue, 26 Mar 2024   Prob (F-statistic):             0.0944\n",
      "Time:                        04:02:13   Log-Likelihood:                -68.353\n",
      "No. Observations:                   6   AIC:                             144.7\n",
      "Df Residuals:                       2   BIC:                             143.9\n",
      "Df Model:                           3                                         \n",
      "Covariance Type:            nonrobust                                         \n",
      "====================================================================================\n",
      "                       coef    std err          t      P>|t|      [0.025      0.975]\n",
      "------------------------------------------------------------------------------------\n",
      "const             3.719e+04   8.28e+04      0.449      0.697   -3.19e+05    3.93e+05\n",
      "Tamaño             186.2264    148.830      1.251      0.337    -454.138     826.591\n",
      "Habitaciones     -9380.2244   6.91e+04     -0.136      0.904   -3.07e+05    2.88e+05\n",
      "Distancia_Ciudad -6071.9934   4759.109     -1.276      0.330   -2.65e+04    1.44e+04\n",
      "==============================================================================\n",
      "Omnibus:                          nan   Durbin-Watson:                   1.671\n",
      "Prob(Omnibus):                    nan   Jarque-Bera (JB):                0.513\n",
      "Skew:                          -0.258   Prob(JB):                        0.774\n",
      "Kurtosis:                       1.664   Cond. No.                     9.77e+03\n",
      "==============================================================================\n",
      "\n",
      "Notes:\n",
      "[1] Standard Errors assume that the covariance matrix of the errors is correctly specified.\n",
      "[2] The condition number is large, 9.77e+03. This might indicate that there are\n",
      "strong multicollinearity or other numerical problems.\n"
     ]
    },
    {
     "name": "stderr",
     "output_type": "stream",
     "text": [
      "C:\\Users\\Rodrigo\\anaconda3\\envs\\PR_NE\\Lib\\site-packages\\statsmodels\\stats\\stattools.py:74: ValueWarning: omni_normtest is not valid with less than 8 observations; 6 samples were given.\n",
      "  warn(\"omni_normtest is not valid with less than 8 observations; %i \"\n"
     ]
    }
   ],
   "source": [
    "#Data de ejemplo\n",
    "data = {\n",
    "        'Tamaño': [1500, 2000, 1200, 1800, 2500, 1400],\n",
    "        'Habitaciones': [3, 4, 2, 4, 5, 3],\n",
    "        'Distancia_Ciudad': [5, 3, 10, 2, 8, 12],\n",
    "        'Precio_Casa': [250000, 320000, 200000, 350000, 420000, 180000]\n",
    "}\n",
    "\n",
    "df = pd.DataFrame(data)\n",
    "\n",
    "#Añadir una constante (intercepto) al modelo\n",
    "X = sm.add_constant(df[['Tamaño', 'Habitaciones', 'Distancia_Ciudad']])\n",
    "\n",
    "#Ajustar el modelo de regresión lineal\n",
    "model = sm.OLS(df['Precio_Casa'], X).fit()\n",
    "\n",
    "#Obtener resumen de estadisticas del modelo\n",
    "summary = model.summary()\n",
    "print(summary)"
   ]
  },
  {
   "cell_type": "markdown",
   "id": "ed2cb50b",
   "metadata": {},
   "source": [
    "### Usando libreria SKLearn"
   ]
  },
  {
   "cell_type": "code",
   "execution_count": 16,
   "id": "2bec68e5-3e32-4f86-9a44-e67d1533ad0e",
   "metadata": {},
   "outputs": [
    {
     "data": {
      "text/plain": [
       "Text(0.5, 1.0, 'Datos')"
      ]
     },
     "execution_count": 16,
     "metadata": {},
     "output_type": "execute_result"
    },
    {
     "data": {
      "image/png": "[encoded data removed]",
      "text/plain": [
       "<Figure size 640x480 with 1 Axes>"
      ]
     },
     "metadata": {},
     "output_type": "display_data"
    }
   ],
   "source": [
    "# función f(x) = 0.1*x + 1.25 + 0.2*Ruido_Gaussiano\n",
    "def f(x):\n",
    "    np.random.seed(42)\n",
    "    y = 0.1*x + 1.25 + 0.2*np.random.randn(x.shape[0])\n",
    "    return y\n",
    "# generamos valores x de 0 a 20 en intervalos de 0.5\n",
    "x = np.arange(0, 20, 0.5)\n",
    "\n",
    "# calculamos y a partir de la función que hemos generado\n",
    "y = f(x)\n",
    "\n",
    "# hacemos un gráfico de los datos que hemos generado\n",
    "plt.scatter(x,y,label='data', color='blue')\n",
    "plt.title('Datos')"
   ]
  },
  {
   "cell_type": "code",
   "execution_count": 17,
   "id": "8fb8131a-9eee-4fbd-ae61-d8c39d491bd9",
   "metadata": {},
   "outputs": [
    {
     "name": "stdout",
     "output_type": "stream",
     "text": [
      "w = [0.09183522], b =1.2858792525736682\n"
     ]
    }
   ],
   "source": [
    "#importamos la clase de Regresion Lineal de scikit-learn\n",
    "\n",
    "from sklearn.linear_model import LinearRegression\n",
    "\n",
    "# creamos una instancia de LinearRegression\n",
    "regresion_lineal = LinearRegression() \n",
    "\n",
    "# instruimos a la regresion lineal que aprenda de los datos (x,y)\n",
    "regresion_lineal.fit(x.reshape(-1,1), y)\n",
    "\n",
    "# vemos los parámetros que ha estimado la regresión lineal\n",
    "print ('w = ' + str(regresion_lineal.coef_) + ', b ='\n",
    "+ str(regresion_lineal.intercept_))"
   ]
  },
  {
   "cell_type": "code",
   "execution_count": 19,
   "id": "7ecb487e-0fcf-45d6-8d29-b5bcb7e72ca2",
   "metadata": {},
   "outputs": [
    {
     "name": "stdout",
     "output_type": "stream",
     "text": [
      "[1.74505534]\n"
     ]
    }
   ],
   "source": [
    "# vamos a predecir y = regresion_lineal(5)\n",
    "\n",
    "nuevo_x = np.array([5])\n",
    "prediccion = regresion_lineal.predict(nuevo_x.reshape(-1,1))\n",
    "\n",
    "print(prediccion)"
   ]
  },
  {
   "cell_type": "code",
   "execution_count": 22,
   "id": "460bb781-f2f1-49c2-860f-5a80d422d98d",
   "metadata": {},
   "outputs": [
    {
     "name": "stdout",
     "output_type": "stream",
     "text": [
      "Error Cuadrático Medio (MSE) = 0.03318522012927899\n",
      "Raíz del Error Cuadrático Medio (RMSE) = 0.18216810952875093\n"
     ]
    }
   ],
   "source": [
    "# importamos el cálculo del error cuadrático medio (MSE)\n",
    "from sklearn.metrics import mean_squared_error\n",
    "\n",
    "# Predecimos los valores y para los datos usados en el entrenamiento\n",
    "prediccion_entrenamiento = regresion_lineal.predict(x.reshape(-1,1))\n",
    "\n",
    "# Calculamos el Error Cuadrático Medio (MSE= Mean Squared Error)\n",
    "mse = mean_squared_error(y_true = y, y_pred = prediccion_entrenamiento)\n",
    "\n",
    "# La raíz cuadrada del MSE es el RMSE\n",
    "rmse = np.sqrt(mse)\n",
    "\n",
    "print('Error Cuadrático Medio (MSE) = ' + str(mse))\n",
    "print('Raíz del Error Cuadrático Medio (RMSE) = ' + str(rmse))"
   ]
  },
  {
   "cell_type": "code",
   "execution_count": 23,
   "id": "af1ba6b8-16fb-472f-b144-e41f1a9dbf2c",
   "metadata": {},
   "outputs": [
    {
     "name": "stdout",
     "output_type": "stream",
     "text": [
      "Coeficiente de Determinación R2 = 0.8943593637683117\n"
     ]
    }
   ],
   "source": [
    "# calculamos el coeficiente de determinación r2\n",
    "\n",
    "r2 = regresion_lineal.score(x.reshape(-1,1), y)\n",
    "print('Coeficiente de Determinación R2 = ' +str(r2))"
   ]
  },
  {
   "cell_type": "code",
   "execution_count": 30,
   "id": "0b6442f4-ff7a-4be5-a718-0a008fbe1d30",
   "metadata": {},
   "outputs": [
    {
     "data": {
      "text/plain": [
       "Text(0.5, 1.0, 'Datos')"
      ]
     },
     "execution_count": 30,
     "metadata": {},
     "output_type": "execute_result"
    },
    {
     "data": {
      "image/png": "[encoded data removed]",
      "text/plain": [
       "<Figure size 640x480 with 1 Axes>"
      ]
     },
     "metadata": {},
     "output_type": "display_data"
    }
   ],
   "source": [
    "x = np.array([189, 190, 208, 227, 239, 252, 257, 274, 293, 308, 316])\n",
    "y = np.array([402, 404, 412, 425, 429, 436, 440, 447, 458, 469, 469])\n",
    "\n",
    "plt.scatter(x,y,label='data', color='blue')\n",
    "plt.title('Datos')"
   ]
  },
  {
   "cell_type": "code",
   "execution_count": null,
   "id": "3be0f77d-527a-4458-a66b-ef31ae1c2753",
   "metadata": {},
   "outputs": [],
   "source": []
  }
 ],
 "metadata": {
  "kernelspec": {
   "display_name": "Python 3 (ipykernel)",
   "language": "python",
   "name": "python3"
  },
  "language_info": {
   "codemirror_mode": {
    "name": "ipython",
    "version": 3
   },
   "file_extension": ".py",
   "mimetype": "text/x-python",
   "name": "python",
   "nbconvert_exporter": "python",
   "pygments_lexer": "ipython3",
   "version": "3.11.2"
  }
 },
 "nbformat": 4,
 "nbformat_minor": 5
}
