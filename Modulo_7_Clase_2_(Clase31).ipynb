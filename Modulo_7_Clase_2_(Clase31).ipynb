{
 "cells": [
  {
   "cell_type": "code",
   "execution_count": null,
   "id": "060cc055-b451-43d8-a53a-f4787b7f6295",
   "metadata": {},
   "outputs": [],
   "source": [
    "pip install opencv-python"
   ]
  },
  {
   "cell_type": "code",
   "execution_count": null,
   "id": "b0c971ec-13fe-48ab-b9ea-c3ff46b7755f",
   "metadata": {},
   "outputs": [],
   "source": [
    "#Importamos Tensorflow y Keras \n",
    "import tensorflow as tf\n",
    "from tensorflow import keras\n",
    "\n",
    "#Importamos Numpy\n",
    "import numpy as np\n",
    "import matplotlib.pyplot as plt\n",
    "import os\n",
    "#Para poder descargar imagenes desde internet usaremos estas librerías\n",
    "import numpy as np\n",
    "import matplotlib.pyplot as plt\n",
    "\n",
    "#Una vez descargadas las imagenes necesiataremos reescalarlas, para adecuar \n",
    "#a nuestro Datasets Para ellos utilizamos la libreria de OpenCv\n",
    "import cv2\n",
    "\n",
    "#verificamos la versión de TF instalada\n",
    "print(tf.__version__)"
   ]
  },
  {
   "cell_type": "code",
   "execution_count": null,
   "id": "05865e75-dfa8-4801-b868-0b4a83cd6374",
   "metadata": {},
   "outputs": [],
   "source": [
    "fashion_mnist = keras.datasets.fashion_mnist\n",
    "\n",
    "(train_images, train_labels), (test_images, test_labels) = fashion_mnist.load_data()"
   ]
  },
  {
   "cell_type": "code",
   "execution_count": null,
   "id": "dbcaa980-1a59-4dee-ba3b-d69a4065eab9",
   "metadata": {},
   "outputs": [],
   "source": [
    "#Las etiquetas de nuestros label son una matriz de entero con un rango de 0 al\n",
    "#9  con el tipo de imagen que representa.\n",
    "class_names = ['Camiseta', 'Pantalón', 'Suéter', 'Vestido', 'Abrigo',\n",
    "'Sandalia', 'Camisa', 'Zapatilla deportiva', 'Bolso', 'Botines']"
   ]
  },
  {
   "cell_type": "code",
   "execution_count": null,
   "id": "6d3c9a94-c4c8-4751-b8af-cfc5d2472308",
   "metadata": {},
   "outputs": [],
   "source": [
    "#Las imagenes estan en un formato 28*28, con un rango de pixeles que va desde \n",
    "# 0 a 255\n",
    "plt.figure()\n",
    "plt.imshow(train_images[26])\n",
    "plt.colorbar()\n",
    "plt.grid(False)\n",
    "plt.show()"
   ]
  },
  {
   "cell_type": "code",
   "execution_count": null,
   "id": "bf4dc939-e395-4871-9c87-6b7dc5ea7a82",
   "metadata": {},
   "outputs": [],
   "source": [
    "plt.figure(figsize=(10,10))\n",
    "for i in range(50):\n",
    "    plt.subplot(5,10,i+1)\n",
    "    plt.xticks([])\n",
    "    plt.yticks([])\n",
    "    plt.grid(False)\n",
    "    plt.imshow(train_images[i], cmap=plt.cm.binary)\n",
    "    plt.xlabel(class_names[train_labels[i]])\n",
    "plt.show()"
   ]
  },
  {
   "cell_type": "code",
   "execution_count": null,
   "id": "ff551c83-9a78-4e1f-bd58-f5fb85c23c01",
   "metadata": {},
   "outputs": [],
   "source": [
    "train_images = train_images / 255\n",
    "test_images = test_images / 255"
   ]
  },
  {
   "cell_type": "code",
   "execution_count": null,
   "id": "e7047f5e-2144-4d3f-974b-108dc36dcc71",
   "metadata": {},
   "outputs": [],
   "source": [
    "plt.figure()\n",
    "plt.imshow(test_images[45])\n",
    "plt.colorbar()\n",
    "plt.grid(False)\n",
    "plt.show()"
   ]
  },
  {
   "cell_type": "code",
   "execution_count": null,
   "id": "8211da67-acce-4b4d-921d-ce4a21b19756",
   "metadata": {},
   "outputs": [],
   "source": [
    "model = keras.Sequential([\n",
    "    keras.layers.Flatten(input_shape=(28,28)),\n",
    "    keras.layers.Dense(150, activation=tf.nn.relu),\n",
    "    keras.layers.Dense(10, activation=tf.nn.softmax),\n",
    "    \n",
    "    \n",
    "])"
   ]
  },
  {
   "cell_type": "code",
   "execution_count": null,
   "id": "7d091fc0-1767-4c14-a144-d0b58309a532",
   "metadata": {},
   "outputs": [],
   "source": [
    "model.compile(optimizer = 'adam',\n",
    "             loss = 'sparse_categorical_crossentropy',\n",
    "             metrics=['accuracy'])"
   ]
  },
  {
   "cell_type": "code",
   "execution_count": null,
   "id": "e492449e-1cbe-4097-bc73-7007c911dcc4",
   "metadata": {},
   "outputs": [],
   "source": [
    "model.summary()"
   ]
  },
  {
   "cell_type": "code",
   "execution_count": null,
   "id": "e9d89525-7008-437c-a8c0-8c0515c4e224",
   "metadata": {},
   "outputs": [],
   "source": [
    "model.fit(train_images,\n",
    "          train_labels,\n",
    "          epochs=15)     "
   ]
  },
  {
   "cell_type": "code",
   "execution_count": null,
   "id": "ac66d50e-480b-4875-8735-06d1418cd9f6",
   "metadata": {},
   "outputs": [],
   "source": [
    "target_dir = './modelo/'\n",
    "if not os.path.exists(target_dir):\n",
    " os.mkdir(target_dir)\n",
    "model.save('./modelo/modelo.h5')\n",
    "model.save_weights('./modelo/pesos.h5')\n",
    "model_file = 'model_trained.h5'\n",
    "tf.keras.models.save_model(model, model_file)"
   ]
  },
  {
   "cell_type": "code",
   "execution_count": null,
   "id": "92117112-40bf-4cae-8e73-829a7ed100df",
   "metadata": {},
   "outputs": [],
   "source": [
    "predictions = model.predict(test_images)"
   ]
  },
  {
   "cell_type": "code",
   "execution_count": null,
   "id": "ecca6b75-5620-4212-a2a0-4cf67a6dfcd0",
   "metadata": {},
   "outputs": [],
   "source": [
    "img_predict =predictions[1000]\n",
    "print(img_predict)"
   ]
  },
  {
   "cell_type": "code",
   "execution_count": null,
   "id": "5455b697-c4a5-42cd-9e33-efe2dea2e3fd",
   "metadata": {},
   "outputs": [],
   "source": [
    "np.argmax(img_predict)"
   ]
  },
  {
   "cell_type": "code",
   "execution_count": null,
   "id": "99c5af90-7db9-4c96-9344-5079480b88a2",
   "metadata": {},
   "outputs": [],
   "source": [
    "index = np.arange(len(class_names))\n",
    "plt.bar(index, img_predict)\n",
    "plt.ylabel('Confiabilidad', fontsize=15)\n",
    "plt.xticks(index, class_names, fontsize=15, rotation=90)\n",
    "plt.title('Predicciones')\n",
    "plt.show()"
   ]
  },
  {
   "cell_type": "code",
   "execution_count": null,
   "id": "61f22f89-34fa-46b2-9791-3118482e69e5",
   "metadata": {},
   "outputs": [],
   "source": [
    "plt.figure()\n",
    "plt.imshow(test_images[1000])\n",
    "plt.colorbar()\n",
    "plt.grid(False)\n",
    "plt.show()"
   ]
  },
  {
   "cell_type": "code",
   "execution_count": null,
   "id": "7f58a9f8-60a8-4a48-bf75-eedbcc0cabfb",
   "metadata": {},
   "outputs": [],
   "source": []
  }
 ],
 "metadata": {
  "kernelspec": {
   "display_name": "Python 3 (ipykernel)",
   "language": "python",
   "name": "python3"
  },
  "language_info": {
   "codemirror_mode": {
    "name": "ipython",
    "version": 3
   },
   "file_extension": ".py",
   "mimetype": "text/x-python",
   "name": "python",
   "nbconvert_exporter": "python",
   "pygments_lexer": "ipython3",
   "version": "3.11.2"
  }
 },
 "nbformat": 4,
 "nbformat_minor": 5
}
